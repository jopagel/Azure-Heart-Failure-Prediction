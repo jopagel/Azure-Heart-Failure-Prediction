{
  "cells": [
    {
      "cell_type": "markdown",
      "source": [
        "# Hearth Disease Prediciton with Automated ML"
      ],
      "metadata": {}
    },
    {
      "cell_type": "code",
      "source": [
        "import logging\r\n",
        "import os\r\n",
        "import csv\r\n",
        "\r\n",
        "from matplotlib import pyplot as plt\r\n",
        "import numpy as np\r\n",
        "import pandas as pd\r\n",
        "from sklearn import datasets\r\n",
        "import pkg_resources\r\n",
        "\r\n",
        "import azureml.core\r\n",
        "from azureml.core.experiment import Experiment\r\n",
        "from azureml.core.workspace import Workspace\r\n",
        "from azureml.core import Model, Environment\r\n",
        "from azureml.train.automl import AutoMLConfig\r\n",
        "from azureml.core.dataset import Dataset\r\n",
        "from azureml.core.model import InferenceConfig\r\n",
        "from azureml.core.webservice import AciWebservice\r\n",
        "\r\n",
        "from azureml.pipeline.steps import AutoMLStep\r\n",
        "import requests\r\n",
        "\r\n",
        "# Check core SDK version number\r\n",
        "print(\"SDK version:\", azureml.core.VERSION)"
      ],
      "outputs": [
        {
          "output_type": "stream",
          "name": "stdout",
          "text": "SDK version: 1.49.0\n"
        }
      ],
      "execution_count": 2,
      "metadata": {
        "gather": {
          "logged": 1689065340523
        },
        "jupyter": {
          "outputs_hidden": false,
          "source_hidden": false
        },
        "nteract": {
          "transient": {
            "deleting": false
          }
        }
      }
    },
    {
      "cell_type": "markdown",
      "source": [
        "### Compute"
      ],
      "metadata": {
        "nteract": {
          "transient": {
            "deleting": false
          }
        }
      }
    },
    {
      "cell_type": "code",
      "source": [
        "ws = Workspace.from_config(\"config.json\")"
      ],
      "outputs": [],
      "execution_count": 4,
      "metadata": {
        "jupyter": {
          "source_hidden": false,
          "outputs_hidden": false
        },
        "nteract": {
          "transient": {
            "deleting": false
          }
        },
        "gather": {
          "logged": 1689065492058
        }
      }
    },
    {
      "cell_type": "code",
      "source": [
        "from azureml.core.compute import AmlCompute\r\n",
        "from azureml.core.compute import ComputeTarget\r\n",
        "from azureml.core.compute_target import ComputeTargetException\r\n",
        "\r\n",
        "# NOTE: update the cluster name to match the existing cluster\r\n",
        "# Choose a name for your CPU cluster\r\n",
        "amlcompute_cluster_name = \"auto-ml\"\r\n",
        "\r\n",
        "# Verify that cluster does not exist already\r\n",
        "try:\r\n",
        "    compute_target = ComputeTarget(workspace=ws, name=amlcompute_cluster_name)\r\n",
        "    print('Found existing cluster, use it.')\r\n",
        "except ComputeTargetException:\r\n",
        "    compute_config = AmlCompute.provisioning_configuration(vm_size='STANDARD_D2_V2',# for GPU, use \"STANDARD_NC6\"\r\n",
        "                                                           #vm_priority = 'lowpriority', # optional\r\n",
        "                                                           max_nodes=4)\r\n",
        "    compute_target = ComputeTarget.create(ws, amlcompute_cluster_name, compute_config)\r\n",
        "\r\n",
        "compute_target.wait_for_completion(show_output=True, min_node_count = 1, timeout_in_minutes = 10)\r\n",
        "# For a more detailed view of current AmlCompute status, use get_status()."
      ],
      "outputs": [
        {
          "output_type": "stream",
          "name": "stdout",
          "text": "InProgress..\nSucceededProvisioning operation finished, operation \"Succeeded\"\nSucceeded.....................................................................................................................\nAmlCompute wait for completion finished\n\nWait timeout has been reached\nCurrent provisioning state of AmlCompute is \"Succeeded\" and current node count is \"0\"\n"
        }
      ],
      "execution_count": 5,
      "metadata": {
        "jupyter": {
          "source_hidden": false,
          "outputs_hidden": false
        },
        "nteract": {
          "transient": {
            "deleting": false
          }
        },
        "gather": {
          "logged": 1689066109639
        }
      }
    },
    {
      "cell_type": "markdown",
      "source": [
        "## Dataset \r\n",
        "### Overview\r\n",
        "\r\n",
        "This data set dates from 1988 and consists of four databases: Cleveland, Hungary, Switzerland, and Long Beach V. It contains 76 attributes, including the predicted attribute, but all published experiments refer to using a subset of 14 of them. The \"DEATH EVENT\" field refers to the presence of heart disease in the patient. It is integer valued 0 = no disease and 1 = disease\r\n",
        "\r\n",
        "\r\n",
        "Before we can use Azure AutoML to predict heart failures, we have to upload the dataset to the datastore and subsequently register it:"
      ],
      "metadata": {
        "nteract": {
          "transient": {
            "deleting": false
          }
        }
      }
    },
    {
      "cell_type": "code",
      "source": [
        "found = False\r\n",
        "key = \"heart_failure_data\"\r\n",
        "\r\n",
        "if key in ws.datasets.keys(): \r\n",
        "        found = True\r\n",
        "        dataset = ws.datasets[key] \r\n",
        "\r\n",
        "if not found:\r\n",
        "\r\n",
        "        datastore = ws.get_default_datastore()\r\n",
        "\r\n",
        "        datastore.upload_files(files=[\"./heart_failure_clinical_records_dataset.csv\"],\r\n",
        "                                overwrite=True)\r\n",
        "\r\n",
        "        # Create AML Dataset and register it into Workspace\r\n",
        "        example_data = \"heart_failure_clinical_records_dataset.csv\"\r\n",
        "        dataset = Dataset.Tabular.from_delimited_files(path=(datastore, \"heart_failure_clinical_records_dataset.csv\"))       \r\n",
        "        #Register Dataset in Workspace\r\n",
        "        dataset = dataset.register(workspace=ws,\r\n",
        "                                   name=key)\r\n",
        "\r\n",
        "\r\n",
        "df = dataset.to_pandas_dataframe()\r\n",
        "df"
      ],
      "outputs": [
        {
          "output_type": "stream",
          "name": "stderr",
          "text": "\"datastore.upload_files\" is deprecated after version 1.0.69. Please use \"FileDatasetFactory.upload_directory\" instead. See Dataset API change notice at https://aka.ms/dataset-deprecation.\n"
        },
        {
          "output_type": "stream",
          "name": "stdout",
          "text": "Uploading an estimated of 1 files\nUploading ./heart_failure_clinical_records_dataset.csv\nUploaded ./heart_failure_clinical_records_dataset.csv, 1 files out of an estimated total of 1\nUploaded 1 files\n"
        },
        {
          "output_type": "execute_result",
          "execution_count": 6,
          "data": {
            "text/plain": "      age  anaemia  creatinine_phosphokinase  diabetes  ejection_fraction  \\\n0    75.0        0                       582         0                 20   \n1    55.0        0                      7861         0                 38   \n2    65.0        0                       146         0                 20   \n3    50.0        1                       111         0                 20   \n4    65.0        1                       160         1                 20   \n..    ...      ...                       ...       ...                ...   \n294  62.0        0                        61         1                 38   \n295  55.0        0                      1820         0                 38   \n296  45.0        0                      2060         1                 60   \n297  45.0        0                      2413         0                 38   \n298  50.0        0                       196         0                 45   \n\n     high_blood_pressure  platelets  serum_creatinine  serum_sodium  sex  \\\n0                      1  265000.00               1.9           130    1   \n1                      0  263358.03               1.1           136    1   \n2                      0  162000.00               1.3           129    1   \n3                      0  210000.00               1.9           137    1   \n4                      0  327000.00               2.7           116    0   \n..                   ...        ...               ...           ...  ...   \n294                    1  155000.00               1.1           143    1   \n295                    0  270000.00               1.2           139    0   \n296                    0  742000.00               0.8           138    0   \n297                    0  140000.00               1.4           140    1   \n298                    0  395000.00               1.6           136    1   \n\n     smoking  time  DEATH_EVENT  \n0          0     4            1  \n1          0     6            1  \n2          1     7            1  \n3          0     7            1  \n4          0     8            1  \n..       ...   ...          ...  \n294        1   270            0  \n295        0   271            0  \n296        0   278            0  \n297        1   280            0  \n298        1   285            0  \n\n[299 rows x 13 columns]",
            "text/html": "<div>\n<style scoped>\n    .dataframe tbody tr th:only-of-type {\n        vertical-align: middle;\n    }\n\n    .dataframe tbody tr th {\n        vertical-align: top;\n    }\n\n    .dataframe thead th {\n        text-align: right;\n    }\n</style>\n<table border=\"1\" class=\"dataframe\">\n  <thead>\n    <tr style=\"text-align: right;\">\n      <th></th>\n      <th>age</th>\n      <th>anaemia</th>\n      <th>creatinine_phosphokinase</th>\n      <th>diabetes</th>\n      <th>ejection_fraction</th>\n      <th>high_blood_pressure</th>\n      <th>platelets</th>\n      <th>serum_creatinine</th>\n      <th>serum_sodium</th>\n      <th>sex</th>\n      <th>smoking</th>\n      <th>time</th>\n      <th>DEATH_EVENT</th>\n    </tr>\n  </thead>\n  <tbody>\n    <tr>\n      <th>0</th>\n      <td>75.0</td>\n      <td>0</td>\n      <td>582</td>\n      <td>0</td>\n      <td>20</td>\n      <td>1</td>\n      <td>265000.00</td>\n      <td>1.9</td>\n      <td>130</td>\n      <td>1</td>\n      <td>0</td>\n      <td>4</td>\n      <td>1</td>\n    </tr>\n    <tr>\n      <th>1</th>\n      <td>55.0</td>\n      <td>0</td>\n      <td>7861</td>\n      <td>0</td>\n      <td>38</td>\n      <td>0</td>\n      <td>263358.03</td>\n      <td>1.1</td>\n      <td>136</td>\n      <td>1</td>\n      <td>0</td>\n      <td>6</td>\n      <td>1</td>\n    </tr>\n    <tr>\n      <th>2</th>\n      <td>65.0</td>\n      <td>0</td>\n      <td>146</td>\n      <td>0</td>\n      <td>20</td>\n      <td>0</td>\n      <td>162000.00</td>\n      <td>1.3</td>\n      <td>129</td>\n      <td>1</td>\n      <td>1</td>\n      <td>7</td>\n      <td>1</td>\n    </tr>\n    <tr>\n      <th>3</th>\n      <td>50.0</td>\n      <td>1</td>\n      <td>111</td>\n      <td>0</td>\n      <td>20</td>\n      <td>0</td>\n      <td>210000.00</td>\n      <td>1.9</td>\n      <td>137</td>\n      <td>1</td>\n      <td>0</td>\n      <td>7</td>\n      <td>1</td>\n    </tr>\n    <tr>\n      <th>4</th>\n      <td>65.0</td>\n      <td>1</td>\n      <td>160</td>\n      <td>1</td>\n      <td>20</td>\n      <td>0</td>\n      <td>327000.00</td>\n      <td>2.7</td>\n      <td>116</td>\n      <td>0</td>\n      <td>0</td>\n      <td>8</td>\n      <td>1</td>\n    </tr>\n    <tr>\n      <th>...</th>\n      <td>...</td>\n      <td>...</td>\n      <td>...</td>\n      <td>...</td>\n      <td>...</td>\n      <td>...</td>\n      <td>...</td>\n      <td>...</td>\n      <td>...</td>\n      <td>...</td>\n      <td>...</td>\n      <td>...</td>\n      <td>...</td>\n    </tr>\n    <tr>\n      <th>294</th>\n      <td>62.0</td>\n      <td>0</td>\n      <td>61</td>\n      <td>1</td>\n      <td>38</td>\n      <td>1</td>\n      <td>155000.00</td>\n      <td>1.1</td>\n      <td>143</td>\n      <td>1</td>\n      <td>1</td>\n      <td>270</td>\n      <td>0</td>\n    </tr>\n    <tr>\n      <th>295</th>\n      <td>55.0</td>\n      <td>0</td>\n      <td>1820</td>\n      <td>0</td>\n      <td>38</td>\n      <td>0</td>\n      <td>270000.00</td>\n      <td>1.2</td>\n      <td>139</td>\n      <td>0</td>\n      <td>0</td>\n      <td>271</td>\n      <td>0</td>\n    </tr>\n    <tr>\n      <th>296</th>\n      <td>45.0</td>\n      <td>0</td>\n      <td>2060</td>\n      <td>1</td>\n      <td>60</td>\n      <td>0</td>\n      <td>742000.00</td>\n      <td>0.8</td>\n      <td>138</td>\n      <td>0</td>\n      <td>0</td>\n      <td>278</td>\n      <td>0</td>\n    </tr>\n    <tr>\n      <th>297</th>\n      <td>45.0</td>\n      <td>0</td>\n      <td>2413</td>\n      <td>0</td>\n      <td>38</td>\n      <td>0</td>\n      <td>140000.00</td>\n      <td>1.4</td>\n      <td>140</td>\n      <td>1</td>\n      <td>1</td>\n      <td>280</td>\n      <td>0</td>\n    </tr>\n    <tr>\n      <th>298</th>\n      <td>50.0</td>\n      <td>0</td>\n      <td>196</td>\n      <td>0</td>\n      <td>45</td>\n      <td>0</td>\n      <td>395000.00</td>\n      <td>1.6</td>\n      <td>136</td>\n      <td>1</td>\n      <td>1</td>\n      <td>285</td>\n      <td>0</td>\n    </tr>\n  </tbody>\n</table>\n<p>299 rows × 13 columns</p>\n</div>"
          },
          "metadata": {}
        }
      ],
      "execution_count": 6,
      "metadata": {
        "jupyter": {
          "source_hidden": false,
          "outputs_hidden": false
        },
        "nteract": {
          "transient": {
            "deleting": false
          }
        },
        "gather": {
          "logged": 1689066119271
        }
      }
    },
    {
      "cell_type": "code",
      "source": [
        "df.describe()"
      ],
      "outputs": [
        {
          "output_type": "execute_result",
          "execution_count": 13,
          "data": {
            "text/plain": "              age     anaemia  creatinine_phosphokinase    diabetes  \\\ncount  299.000000  299.000000                299.000000  299.000000   \nmean    60.833893    0.431438                581.839465    0.418060   \nstd     11.894809    0.496107                970.287881    0.494067   \nmin     40.000000    0.000000                 23.000000    0.000000   \n25%     51.000000    0.000000                116.500000    0.000000   \n50%     60.000000    0.000000                250.000000    0.000000   \n75%     70.000000    1.000000                582.000000    1.000000   \nmax     95.000000    1.000000               7861.000000    1.000000   \n\n       ejection_fraction  high_blood_pressure      platelets  \\\ncount         299.000000           299.000000     299.000000   \nmean           38.083612             0.351171  263358.029264   \nstd            11.834841             0.478136   97804.236869   \nmin            14.000000             0.000000   25100.000000   \n25%            30.000000             0.000000  212500.000000   \n50%            38.000000             0.000000  262000.000000   \n75%            45.000000             1.000000  303500.000000   \nmax            80.000000             1.000000  850000.000000   \n\n       serum_creatinine  serum_sodium         sex    smoking        time  \\\ncount         299.00000    299.000000  299.000000  299.00000  299.000000   \nmean            1.39388    136.625418    0.648829    0.32107  130.260870   \nstd             1.03451      4.412477    0.478136    0.46767   77.614208   \nmin             0.50000    113.000000    0.000000    0.00000    4.000000   \n25%             0.90000    134.000000    0.000000    0.00000   73.000000   \n50%             1.10000    137.000000    1.000000    0.00000  115.000000   \n75%             1.40000    140.000000    1.000000    1.00000  203.000000   \nmax             9.40000    148.000000    1.000000    1.00000  285.000000   \n\n       DEATH_EVENT  \ncount    299.00000  \nmean       0.32107  \nstd        0.46767  \nmin        0.00000  \n25%        0.00000  \n50%        0.00000  \n75%        1.00000  \nmax        1.00000  ",
            "text/html": "<div>\n<style scoped>\n    .dataframe tbody tr th:only-of-type {\n        vertical-align: middle;\n    }\n\n    .dataframe tbody tr th {\n        vertical-align: top;\n    }\n\n    .dataframe thead th {\n        text-align: right;\n    }\n</style>\n<table border=\"1\" class=\"dataframe\">\n  <thead>\n    <tr style=\"text-align: right;\">\n      <th></th>\n      <th>age</th>\n      <th>anaemia</th>\n      <th>creatinine_phosphokinase</th>\n      <th>diabetes</th>\n      <th>ejection_fraction</th>\n      <th>high_blood_pressure</th>\n      <th>platelets</th>\n      <th>serum_creatinine</th>\n      <th>serum_sodium</th>\n      <th>sex</th>\n      <th>smoking</th>\n      <th>time</th>\n      <th>DEATH_EVENT</th>\n    </tr>\n  </thead>\n  <tbody>\n    <tr>\n      <th>count</th>\n      <td>299.000000</td>\n      <td>299.000000</td>\n      <td>299.000000</td>\n      <td>299.000000</td>\n      <td>299.000000</td>\n      <td>299.000000</td>\n      <td>299.000000</td>\n      <td>299.00000</td>\n      <td>299.000000</td>\n      <td>299.000000</td>\n      <td>299.00000</td>\n      <td>299.000000</td>\n      <td>299.00000</td>\n    </tr>\n    <tr>\n      <th>mean</th>\n      <td>60.833893</td>\n      <td>0.431438</td>\n      <td>581.839465</td>\n      <td>0.418060</td>\n      <td>38.083612</td>\n      <td>0.351171</td>\n      <td>263358.029264</td>\n      <td>1.39388</td>\n      <td>136.625418</td>\n      <td>0.648829</td>\n      <td>0.32107</td>\n      <td>130.260870</td>\n      <td>0.32107</td>\n    </tr>\n    <tr>\n      <th>std</th>\n      <td>11.894809</td>\n      <td>0.496107</td>\n      <td>970.287881</td>\n      <td>0.494067</td>\n      <td>11.834841</td>\n      <td>0.478136</td>\n      <td>97804.236869</td>\n      <td>1.03451</td>\n      <td>4.412477</td>\n      <td>0.478136</td>\n      <td>0.46767</td>\n      <td>77.614208</td>\n      <td>0.46767</td>\n    </tr>\n    <tr>\n      <th>min</th>\n      <td>40.000000</td>\n      <td>0.000000</td>\n      <td>23.000000</td>\n      <td>0.000000</td>\n      <td>14.000000</td>\n      <td>0.000000</td>\n      <td>25100.000000</td>\n      <td>0.50000</td>\n      <td>113.000000</td>\n      <td>0.000000</td>\n      <td>0.00000</td>\n      <td>4.000000</td>\n      <td>0.00000</td>\n    </tr>\n    <tr>\n      <th>25%</th>\n      <td>51.000000</td>\n      <td>0.000000</td>\n      <td>116.500000</td>\n      <td>0.000000</td>\n      <td>30.000000</td>\n      <td>0.000000</td>\n      <td>212500.000000</td>\n      <td>0.90000</td>\n      <td>134.000000</td>\n      <td>0.000000</td>\n      <td>0.00000</td>\n      <td>73.000000</td>\n      <td>0.00000</td>\n    </tr>\n    <tr>\n      <th>50%</th>\n      <td>60.000000</td>\n      <td>0.000000</td>\n      <td>250.000000</td>\n      <td>0.000000</td>\n      <td>38.000000</td>\n      <td>0.000000</td>\n      <td>262000.000000</td>\n      <td>1.10000</td>\n      <td>137.000000</td>\n      <td>1.000000</td>\n      <td>0.00000</td>\n      <td>115.000000</td>\n      <td>0.00000</td>\n    </tr>\n    <tr>\n      <th>75%</th>\n      <td>70.000000</td>\n      <td>1.000000</td>\n      <td>582.000000</td>\n      <td>1.000000</td>\n      <td>45.000000</td>\n      <td>1.000000</td>\n      <td>303500.000000</td>\n      <td>1.40000</td>\n      <td>140.000000</td>\n      <td>1.000000</td>\n      <td>1.00000</td>\n      <td>203.000000</td>\n      <td>1.00000</td>\n    </tr>\n    <tr>\n      <th>max</th>\n      <td>95.000000</td>\n      <td>1.000000</td>\n      <td>7861.000000</td>\n      <td>1.000000</td>\n      <td>80.000000</td>\n      <td>1.000000</td>\n      <td>850000.000000</td>\n      <td>9.40000</td>\n      <td>148.000000</td>\n      <td>1.000000</td>\n      <td>1.00000</td>\n      <td>285.000000</td>\n      <td>1.00000</td>\n    </tr>\n  </tbody>\n</table>\n</div>"
          },
          "metadata": {}
        }
      ],
      "execution_count": 13,
      "metadata": {
        "jupyter": {
          "source_hidden": false,
          "outputs_hidden": false
        },
        "nteract": {
          "transient": {
            "deleting": false
          }
        },
        "gather": {
          "logged": 1689066604302
        }
      }
    },
    {
      "cell_type": "markdown",
      "source": [
        "In the table above we can see the different features that we will use to predict if the patient is prone to suffer a hearth attack or not. Thereby we can see that the main descriptive metrics like the count, mean, standard deviation, etc. "
      ],
      "metadata": {
        "nteract": {
          "transient": {
            "deleting": false
          }
        }
      }
    },
    {
      "cell_type": "markdown",
      "source": [
        "## AutoML Configuration\n",
        "\n",
        "In the next step we specify the AutoML configuration. Thereby we set the timeout to 20 min in order to prevent the experiments from a timeout. The maximum of concurrent iterations is 5 because we only have a 4 nodes cluster of STANDARD_D2_V2 to run the experiment. In addition we set accuracy as the primary metric to select the best resulting model since this is the main metric to evaluate classification models."
      ],
      "metadata": {}
    },
    {
      "cell_type": "code",
      "source": [
        "experiment_name = 'auto-ml'\r\n",
        "\r\n",
        "experiment=Experiment(ws, experiment_name)"
      ],
      "outputs": [],
      "execution_count": null,
      "metadata": {
        "jupyter": {
          "source_hidden": false,
          "outputs_hidden": false
        },
        "nteract": {
          "transient": {
            "deleting": false
          }
        }
      }
    },
    {
      "cell_type": "code",
      "source": [
        "automl_settings = {\n",
        "    \"experiment_timeout_minutes\": 20,\n",
        "    \"max_concurrent_iterations\": 5,\n",
        "    \"primary_metric\" : 'accuracy'\n",
        "}\n",
        "\n",
        "automl_config = AutoMLConfig(compute_target=compute_target,\n",
        "                             task = \"classification\",\n",
        "                             training_data=dataset,\n",
        "                             label_column_name=\"DEATH_EVENT\",   \n",
        "                             enable_early_stopping= True,\n",
        "                             featurization= 'auto',\n",
        "                             **automl_settings\n",
        "                            )\n"
      ],
      "outputs": [],
      "execution_count": 8,
      "metadata": {
        "gather": {
          "logged": 1689066120475
        },
        "jupyter": {
          "outputs_hidden": false,
          "source_hidden": false
        },
        "nteract": {
          "transient": {
            "deleting": false
          }
        }
      }
    },
    {
      "cell_type": "code",
      "source": [
        "# Submit the experiment\n",
        "remote_run = experiment.submit(automl_config)"
      ],
      "outputs": [
        {
          "output_type": "stream",
          "name": "stdout",
          "text": "Submitting remote run.\n"
        },
        {
          "output_type": "display_data",
          "data": {
            "text/plain": "<IPython.core.display.HTML object>",
            "text/html": "<table style=\"width:100%\"><tr><th>Experiment</th><th>Id</th><th>Type</th><th>Status</th><th>Details Page</th><th>Docs Page</th></tr><tr><td>auto-ml</td><td>AutoML_9787ad56-73f5-4a1b-9229-0969b481fb9c</td><td>automl</td><td>NotStarted</td><td><a href=\"https://ml.azure.com/runs/AutoML_9787ad56-73f5-4a1b-9229-0969b481fb9c?wsid=/subscriptions/5a4ab2ba-6c51-4805-8155-58759ad589d8/resourcegroups/aml-quickstarts-238537/workspaces/quick-starts-ws-238537&amp;tid=660b3398-b80e-49d2-bc5b-ac1dc93b5254\" target=\"_blank\" rel=\"noopener\">Link to Azure Machine Learning studio</a></td><td><a href=\"https://docs.microsoft.com/en-us/python/api/overview/azure/ml/intro?view=azure-ml-py\" target=\"_blank\" rel=\"noopener\">Link to Documentation</a></td></tr></table>"
          },
          "metadata": {}
        }
      ],
      "execution_count": 9,
      "metadata": {
        "gather": {
          "logged": 1689066123742
        },
        "jupyter": {
          "outputs_hidden": false,
          "source_hidden": false
        },
        "nteract": {
          "transient": {
            "deleting": false
          }
        }
      }
    },
    {
      "cell_type": "markdown",
      "source": [
        "## Run Details\n",
        "\n",
        "OPTIONAL: Write about the different models trained and their performance. Why do you think some models did better than others?\n",
        "\n",
        "TODO: In the cell below, use the `RunDetails` widget to show the different experiments."
      ],
      "metadata": {}
    },
    {
      "cell_type": "code",
      "source": [
        "from azureml.widgets import RunDetails\r\n",
        "RunDetails(remote_run).show()"
      ],
      "outputs": [
        {
          "output_type": "display_data",
          "data": {
            "text/plain": "_AutoMLWidget(widget_settings={'childWidgetDisplay': 'popup', 'send_telemetry': False, 'log_level': 'INFO', 's…",
            "application/vnd.jupyter.widget-view+json": {
              "version_major": 2,
              "version_minor": 0,
              "model_id": "dc053c915cd54a3c96d57a10f5ac9bb5"
            }
          },
          "metadata": {}
        },
        {
          "output_type": "display_data",
          "data": {
            "application/aml.mini.widget.v1": "{\"status\": \"Completed\", \"workbench_run_details_uri\": \"https://ml.azure.com/runs/AutoML_9787ad56-73f5-4a1b-9229-0969b481fb9c?wsid=/subscriptions/5a4ab2ba-6c51-4805-8155-58759ad589d8/resourcegroups/aml-quickstarts-238537/workspaces/quick-starts-ws-238537&tid=660b3398-b80e-49d2-bc5b-ac1dc93b5254\", \"run_id\": \"AutoML_9787ad56-73f5-4a1b-9229-0969b481fb9c\", \"run_properties\": {\"run_id\": \"AutoML_9787ad56-73f5-4a1b-9229-0969b481fb9c\", \"created_utc\": \"2023-07-11T09:02:02.168373Z\", \"properties\": {\"num_iterations\": \"1000\", \"training_type\": \"TrainFull\", \"acquisition_function\": \"EI\", \"primary_metric\": \"accuracy\", \"train_split\": \"0\", \"acquisition_parameter\": \"0\", \"num_cross_validation\": null, \"target\": \"auto-ml\", \"AMLSettingsJsonString\": \"{\\\"path\\\":null,\\\"name\\\":\\\"auto-ml\\\",\\\"subscription_id\\\":\\\"5a4ab2ba-6c51-4805-8155-58759ad589d8\\\",\\\"resource_group\\\":\\\"aml-quickstarts-238537\\\",\\\"workspace_name\\\":\\\"quick-starts-ws-238537\\\",\\\"region\\\":\\\"southcentralus\\\",\\\"compute_target\\\":\\\"auto-ml\\\",\\\"spark_service\\\":null,\\\"azure_service\\\":\\\"remote\\\",\\\"many_models\\\":false,\\\"pipeline_fetch_max_batch_size\\\":1,\\\"enable_batch_run\\\":true,\\\"enable_parallel_run\\\":false,\\\"num_procs\\\":null,\\\"enable_run_restructure\\\":false,\\\"start_auxiliary_runs_before_parent_complete\\\":false,\\\"enable_code_generation\\\":true,\\\"iterations\\\":1000,\\\"primary_metric\\\":\\\"accuracy\\\",\\\"task_type\\\":\\\"classification\\\",\\\"positive_label\\\":null,\\\"data_script\\\":null,\\\"test_size\\\":0.0,\\\"test_include_predictions_only\\\":false,\\\"validation_size\\\":0.0,\\\"n_cross_validations\\\":null,\\\"y_min\\\":null,\\\"y_max\\\":null,\\\"num_classes\\\":null,\\\"featurization\\\":\\\"auto\\\",\\\"_ignore_package_version_incompatibilities\\\":false,\\\"is_timeseries\\\":false,\\\"max_cores_per_iteration\\\":1,\\\"max_concurrent_iterations\\\":5,\\\"iteration_timeout_minutes\\\":null,\\\"mem_in_mb\\\":null,\\\"enforce_time_on_windows\\\":false,\\\"experiment_timeout_minutes\\\":20,\\\"experiment_exit_score\\\":null,\\\"partition_column_names\\\":null,\\\"whitelist_models\\\":null,\\\"blacklist_algos\\\":[\\\"TensorFlowLinearClassifier\\\",\\\"TensorFlowDNN\\\"],\\\"supported_models\\\":[\\\"LightGBM\\\",\\\"XGBoostClassifier\\\",\\\"AveragedPerceptronClassifier\\\",\\\"TensorFlowLinearClassifier\\\",\\\"MultinomialNaiveBayes\\\",\\\"BernoulliNaiveBayes\\\",\\\"SVM\\\",\\\"ExtremeRandomTrees\\\",\\\"TensorFlowDNN\\\",\\\"KNN\\\",\\\"SGD\\\",\\\"DecisionTree\\\",\\\"LinearSVM\\\",\\\"GradientBoosting\\\",\\\"RandomForest\\\",\\\"TabnetClassifier\\\",\\\"LogisticRegression\\\"],\\\"private_models\\\":[],\\\"auto_blacklist\\\":true,\\\"blacklist_samples_reached\\\":false,\\\"exclude_nan_labels\\\":true,\\\"verbosity\\\":20,\\\"_debug_log\\\":\\\"azureml_automl.log\\\",\\\"show_warnings\\\":false,\\\"model_explainability\\\":true,\\\"service_url\\\":null,\\\"sdk_url\\\":null,\\\"sdk_packages\\\":null,\\\"enable_onnx_compatible_models\\\":false,\\\"enable_split_onnx_featurizer_estimator_models\\\":false,\\\"vm_type\\\":\\\"STANDARD_D2_V2\\\",\\\"telemetry_verbosity\\\":20,\\\"send_telemetry\\\":true,\\\"enable_dnn\\\":false,\\\"scenario\\\":\\\"AutoML\\\",\\\"environment_label\\\":null,\\\"save_mlflow\\\":false,\\\"enable_categorical_indicators\\\":false,\\\"force_text_dnn\\\":false,\\\"enable_feature_sweeping\\\":true,\\\"enable_early_stopping\\\":true,\\\"early_stopping_n_iters\\\":10,\\\"arguments\\\":null,\\\"dataset_id\\\":\\\"fd7a82d7-e4ca-445b-a92d-efac7d810832\\\",\\\"hyperdrive_config\\\":null,\\\"validation_dataset_id\\\":null,\\\"run_source\\\":null,\\\"metrics\\\":null,\\\"enable_metric_confidence\\\":false,\\\"enable_ensembling\\\":true,\\\"enable_stack_ensembling\\\":true,\\\"ensemble_iterations\\\":15,\\\"enable_tf\\\":false,\\\"enable_subsampling\\\":null,\\\"subsample_seed\\\":null,\\\"enable_nimbusml\\\":false,\\\"enable_streaming\\\":false,\\\"force_streaming\\\":false,\\\"track_child_runs\\\":true,\\\"n_best_runs\\\":1,\\\"allowed_private_models\\\":[],\\\"label_column_name\\\":\\\"DEATH_EVENT\\\",\\\"weight_column_name\\\":null,\\\"cv_split_column_names\\\":null,\\\"enable_local_managed\\\":false,\\\"_local_managed_run_id\\\":null,\\\"cost_mode\\\":1,\\\"lag_length\\\":0,\\\"metric_operation\\\":\\\"maximize\\\",\\\"preprocess\\\":true}\", \"DataPrepJsonString\": \"{\\\\\\\"training_data\\\\\\\": {\\\\\\\"datasetId\\\\\\\": \\\\\\\"fd7a82d7-e4ca-445b-a92d-efac7d810832\\\\\\\"}, \\\\\\\"datasets\\\\\\\": 0}\", \"EnableSubsampling\": null, \"runTemplate\": \"AutoML\", \"azureml.runsource\": \"automl\", \"display_task_type\": \"classification\", \"dependencies_versions\": \"{\\\"azureml-widgets\\\": \\\"1.49.0\\\", \\\"azureml-training-tabular\\\": \\\"1.49.0\\\", \\\"azureml-train\\\": \\\"1.49.0\\\", \\\"azureml-train-restclients-hyperdrive\\\": \\\"1.49.0\\\", \\\"azureml-train-core\\\": \\\"1.49.0\\\", \\\"azureml-train-automl\\\": \\\"1.49.0\\\", \\\"azureml-train-automl-runtime\\\": \\\"1.49.0\\\", \\\"azureml-train-automl-client\\\": \\\"1.49.0\\\", \\\"azureml-tensorboard\\\": \\\"1.49.0\\\", \\\"azureml-telemetry\\\": \\\"1.49.0\\\", \\\"azureml-sdk\\\": \\\"1.49.0\\\", \\\"azureml-responsibleai\\\": \\\"1.49.0\\\", \\\"azureml-pipeline\\\": \\\"1.49.0\\\", \\\"azureml-pipeline-steps\\\": \\\"1.49.0\\\", \\\"azureml-pipeline-core\\\": \\\"1.49.0\\\", \\\"azureml-opendatasets\\\": \\\"1.49.0\\\", \\\"azureml-mlflow\\\": \\\"1.49.0\\\", \\\"azureml-interpret\\\": \\\"1.49.0\\\", \\\"azureml-inference-server-http\\\": \\\"0.8.0\\\", \\\"azureml-explain-model\\\": \\\"1.49.0\\\", \\\"azureml-defaults\\\": \\\"1.49.0\\\", \\\"azureml-dataset-runtime\\\": \\\"1.49.0\\\", \\\"azureml-dataprep\\\": \\\"4.9.1\\\", \\\"azureml-dataprep-rslex\\\": \\\"2.16.1\\\", \\\"azureml-dataprep-native\\\": \\\"38.0.0\\\", \\\"azureml-datadrift\\\": \\\"1.49.0\\\", \\\"azureml-core\\\": \\\"1.49.0\\\", \\\"azureml-contrib-services\\\": \\\"1.49.0\\\", \\\"azureml-contrib-server\\\": \\\"1.49.0\\\", \\\"azureml-contrib-reinforcementlearning\\\": \\\"1.49.0\\\", \\\"azureml-contrib-pipeline-steps\\\": \\\"1.49.0\\\", \\\"azureml-contrib-notebook\\\": \\\"1.49.0\\\", \\\"azureml-contrib-fairness\\\": \\\"1.49.0\\\", \\\"azureml-contrib-dataset\\\": \\\"1.49.0\\\", \\\"azureml-contrib-automl-pipeline-steps\\\": \\\"1.49.0\\\", \\\"azureml-cli-common\\\": \\\"1.49.0\\\", \\\"azureml-automl-runtime\\\": \\\"1.49.0\\\", \\\"azureml-automl-dnn-nlp\\\": \\\"1.49.0\\\", \\\"azureml-automl-core\\\": \\\"1.49.0\\\", \\\"azureml-accel-models\\\": \\\"1.49.0\\\"}\", \"_aml_system_scenario_identification\": \"Remote.Parent\", \"ClientType\": \"SDK\", \"PlatformVersion\": \"DPV1\", \"environment_cpu_name\": \"AzureML-AutoML\", \"environment_cpu_label\": \"prod\", \"environment_gpu_name\": \"AzureML-AutoML-GPU\", \"environment_gpu_label\": \"prod\", \"root_attribution\": \"automl\", \"attribution\": \"AutoML\", \"Orchestrator\": \"AutoML\", \"CancelUri\": \"https://southcentralus.api.azureml.ms/jasmine/v1.0/subscriptions/5a4ab2ba-6c51-4805-8155-58759ad589d8/resourceGroups/aml-quickstarts-238537/providers/Microsoft.MachineLearningServices/workspaces/quick-starts-ws-238537/experimentids/98439175-4e6a-4f6b-b1b5-4a1595511613/cancel/AutoML_9787ad56-73f5-4a1b-9229-0969b481fb9c\", \"ClientSdkVersion\": null, \"snapshotId\": \"00000000-0000-0000-0000-000000000000\", \"SetupRunId\": \"AutoML_9787ad56-73f5-4a1b-9229-0969b481fb9c_setup\", \"SetupRunContainerId\": \"dcid.AutoML_9787ad56-73f5-4a1b-9229-0969b481fb9c_setup\", \"FeaturizationRunJsonPath\": \"featurizer_container.json\", \"FeaturizationRunId\": \"AutoML_9787ad56-73f5-4a1b-9229-0969b481fb9c_featurize\", \"ProblemInfoJsonString\": \"{\\\"dataset_num_categorical\\\": 0, \\\"is_sparse\\\": false, \\\"subsampling\\\": false, \\\"has_extra_col\\\": true, \\\"dataset_classes\\\": 2, \\\"dataset_features\\\": 12, \\\"dataset_samples\\\": 299, \\\"single_frequency_class_detected\\\": false}\", \"ModelExplainRunId\": \"AutoML_9787ad56-73f5-4a1b-9229-0969b481fb9c_ModelExplain\"}, \"tags\": {\"model_explain_run\": \"best_run\", \"_aml_system_automl_run_workspace_id\": \"07d79b87-ad8c-4f09-9677-60d2473aa385\", \"_aml_system_azureml.automlComponent\": \"AutoML\", \"pipeline_id_000\": \"5dfac790c5c209f98a1da2dc1c7fb76f0397324f;c7af0367625be6ac5c2fecbfc72ed444cb7a2111;799d2168db11fc19b9e1c6c1df62f8981ad39fe9;44b5d2d23120dfcf96a7dc6389a293d17a966b1b;628c2351f7c75d74ad3673f2d39af16d6976da2e;3735210984ea10097d5c91905cf6300ac278cd89;2964988f7520e6167bfe42ba2c42ab4a75f8a68c;5304e705d6f401cb07f85bcf0ca59ac1f84dfcf5;5f21d4801ee2a6073890b89985177d37ef49c646;081b692de9e87424d86c2c1d0787b65e098fc386;294650ec23bc3d067a4972de7ceb12f6e97260fa;ca211529127bb19e1fc933b24b457a03beb5e48e;08e13545f5f7e2df5ef6a66d4110cfd996b1a0e3;3caa818370e5e0c328d6266c359019bd31681270;589334a57221e0720a95cf217c065115a7b841d1;35b8e2db3c5f6e714072e1be9f0210fe48426975;1dfdf370ba770047b14bfa59c40920815defcdab;da45f657e4591caadf1589a85a1f7b8932585595;3fd2e115482e0c7b92aa3297688aefb6c3aa6fb8;fedbb4995d6de479c513576119965d71276f03d1;e478544eb8734c07a1943f5bdf4e6605be6943df;22bffc6cdfb453aa19b0792ec8a8b592bd44dc5b;bc4e14e9481990f09b66c70640f3b1c528f584ac;dc68fbd594530b5d52812dd9b3ffa3d6d8ba625e;ce96746d6f86360fe360023f5ae43340d1986145;7b422e7b3f86902c2409d5b5d9ff0c84d5dacfee;17f87d449bb43aaf3cdae4b7eb6dd6e7fbdaf343;d4a0230cdc4e757b3ecd2a2f364f8f0141fb5e8d;664e966ce723fe972f3a23a912154a68b05d3f1e;809d104499205a4f6a3cd2fe690fd2411e09d318;3d9e37d91189f9df1d9c0f2e0cfed345c3a54197;6f39e692723da42e43aa2e593332cb5d3568a3f2;f0ea9ff175d03a19ae03ebe2246a695c85b44396;efb108535b85b89a4fb874840a154d479c2cd246;92ea6dda39432014a86483f1855f89560e320ae4;9ae570c73d438d6be51957bfdf913b72e37df460;5514b33779751d8de84d44049fd977b392dfd7b2;410d4efc9c4dc1502b5fc819c9b7906dfa08a822;__AutoML_Ensemble__;__AutoML_Stack_Ensemble__\", \"score_000\": \"0.8526436781609196;0.8126436781609195;0.8224137931034482;0.8093103448275862;0.622183908045977;0.8359770114942527;0.792528735632184;0.8126436781609195;0.6120689655172413;0.7558620689655172;0.825977011494253;0.7658620689655172;0.8358620689655172;0.8159770114942528;0.859425287356322;0.835977011494253;0.8291954022988506;0.8191954022988505;0.8526436781609196;0.7922988505747128;0.8290804597701149;0.7419540229885058;0.7126436781609196;0.8358620689655174;0.7158620689655172;0.7126436781609196;0.8294252873563218;0.8293103448275861;0.8328735632183909;0.6791954022988507;0.8360919540229885;0.8462068965517242;0.8459770114942529;0.8458620689655172;NaN;0.8358620689655174;0.8027586206896553;NaN;0.8728735632183909;0.8660919540229886\", \"predicted_cost_000\": \"0;0;0.5;0.5;0.5;0.5;0.5;0.5;0.5;0.5;0.5;0.5;0.5;0.5;0.5;0.5;0.24484165303430422;0.03957121728495404;0.011092503843022702;0.17825321362333138;0.08822210551012251;0.5;0.5;0.04306873922139496;0.5;0.5;0.022107464038324965;0.04051868347505036;0.09809782374595707;0.03834354224640729;0.015278460282625798;0.061001484652778;0.04549393242333268;0.0150517622792018;0.07125219600940934;0.09291524410984386;0.016614339869504547;0.032326450421773185;0;0\", \"fit_time_000\": \"0.0368816;0.054181;0.21800680000000003;0.015062599999999999;0.0042286;0.0143448;0.0140295;0.0081733;0.0033994000000000003;0.0186123;0.0137627;0.007443099999999999;0.2934928;0.025628100000000004;0.0188777;0.022019199999999996;0.21738200000000002;0.029248200000000002;0.013695099999999998;0.33724529999999997;0.019732;0.044104199999999996;0.007264600000000001;0.0237826;0.00742;0.0072546999999999985;0.08582429999999999;0.028133099999999994;0.0446601;0.008437499999999999;0.016783;0.2357087;0.029258899999999997;0.053235599999999994;NaN;0.0276992;0.0153814;NaN;28;35\", \"training_percent_000\": \"100;100;100;100;100;100;100;100;100;100;100;100;100;100;100;100;100;100;100;100;100;100;100;100;100;100;100;100;100;100;100;100;100;100;100;100;100;100;100;100\", \"iteration_000\": \"0;1;2;3;4;5;6;7;8;9;10;16;11;17;18;19;22;20;21;25;26;12;13;23;14;15;24;28;27;30;29;31;32;33;37;35;34;36;38;39\", \"run_preprocessor_000\": \"MaxAbsScaler;MaxAbsScaler;MaxAbsScaler;SparseNormalizer;StandardScalerWrapper;MaxAbsScaler;RobustScaler;MaxAbsScaler;StandardScalerWrapper;StandardScalerWrapper;StandardScalerWrapper;SparseNormalizer;MinMaxScaler;MaxAbsScaler;StandardScalerWrapper;StandardScalerWrapper;SparseNormalizer;MaxAbsScaler;StandardScalerWrapper;TruncatedSVDWrapper;StandardScalerWrapper;StandardScalerWrapper;StandardScalerWrapper;StandardScalerWrapper;RobustScaler;MinMaxScaler;StandardScalerWrapper;MinMaxScaler;SparseNormalizer;TruncatedSVDWrapper;MinMaxScaler;RobustScaler;RobustScaler;StandardScalerWrapper;;StandardScalerWrapper;StandardScalerWrapper;RobustScaler;;\", \"run_algorithm_000\": \"LightGBM;XGBoostClassifier;ExtremeRandomTrees;XGBoostClassifier;KNN;LightGBM;LogisticRegression;LightGBM;KNN;SVM;XGBoostClassifier;KNN;RandomForest;LogisticRegression;XGBoostClassifier;XGBoostClassifier;RandomForest;LogisticRegression;XGBoostClassifier;RandomForest;XGBoostClassifier;LogisticRegression;KNN;XGBoostClassifier;KNN;KNN;RandomForest;LightGBM;XGBoostClassifier;XGBoostClassifier;LightGBM;RandomForest;LightGBM;GradientBoosting;;XGBoostClassifier;XGBoostClassifier;RandomForest;VotingEnsemble;StackEnsemble\", \"dynamic_allowlisting_iterations\": \"<23>;<30>;<35>;\", \"_aml_system_azureml.automl_early_exit_message\": \"No scores improved over last 10 iterations, so experiment stopped early. This early stopping behavior can be disabled by setting enable_early_stopping = False in AutoMLConfig for notebook/python SDK runs.\", \"automl_best_child_run_id\": \"AutoML_9787ad56-73f5-4a1b-9229-0969b481fb9c_38\", \"model_explain_best_run_child_id\": \"AutoML_9787ad56-73f5-4a1b-9229-0969b481fb9c_38\"}, \"end_time_utc\": \"2023-07-11T09:25:28.549816Z\", \"status\": \"Completed\", \"log_files\": {}, \"log_groups\": [], \"run_duration\": \"0:23:26\", \"run_number\": \"1689066122\", \"run_queued_details\": {\"status\": \"Completed\", \"details\": null}}, \"child_runs\": [{\"run_id\": \"AutoML_9787ad56-73f5-4a1b-9229-0969b481fb9c_setup\", \"run_number\": 1689066135, \"metric\": null, \"status\": \"Completed\", \"run_type\": \"azureml.scriptrun\", \"training_percent\": null, \"start_time\": \"2023-07-11T09:05:28.610673Z\", \"end_time\": \"2023-07-11T09:11:39.173195Z\", \"created_time\": \"2023-07-11T09:02:15.202278Z\", \"created_time_dt\": \"2023-07-11T09:02:15.202278Z\", \"duration\": \"0:09:23\", \"iteration\": null, \"goal\": null, \"run_name\": \"Completed\", \"run_properties\": null}, {\"run_id\": \"AutoML_9787ad56-73f5-4a1b-9229-0969b481fb9c_featurize\", \"run_number\": 1689066699, \"metric\": null, \"status\": \"Completed\", \"run_type\": \"automl.featurization\", \"training_percent\": null, \"start_time\": \"2023-07-11T09:11:39.929091Z\", \"end_time\": \"2023-07-11T09:12:31.313067Z\", \"created_time\": \"2023-07-11T09:11:39.540467Z\", \"created_time_dt\": \"2023-07-11T09:11:39.540467Z\", \"duration\": \"0:00:51\", \"iteration\": null, \"goal\": null, \"run_name\": \"Completed\", \"run_properties\": null}, {\"run_id\": \"AutoML_9787ad56-73f5-4a1b-9229-0969b481fb9c_0\", \"run_number\": 1689066752, \"metric\": null, \"status\": \"Completed\", \"run_type\": null, \"training_percent\": \"100\", \"start_time\": \"2023-07-11T09:12:58.230012Z\", \"end_time\": \"2023-07-11T09:13:14.225713Z\", \"created_time\": \"2023-07-11T09:12:32.917196Z\", \"created_time_dt\": \"2023-07-11T09:12:32.917196Z\", \"duration\": \"0:00:41\", \"iteration\": \"0\", \"goal\": \"accuracy_max\", \"run_name\": \"MaxAbsScaler, LightGBM\", \"run_properties\": \"copy=True\", \"primary_metric\": 0.85264368, \"best_metric\": 0.85264368}, {\"run_id\": \"AutoML_9787ad56-73f5-4a1b-9229-0969b481fb9c_1\", \"run_number\": 1689066753, \"metric\": null, \"status\": \"Completed\", \"run_type\": null, \"training_percent\": \"100\", \"start_time\": \"2023-07-11T09:13:15.048109Z\", \"end_time\": \"2023-07-11T09:13:28.069856Z\", \"created_time\": \"2023-07-11T09:12:33.414964Z\", \"created_time_dt\": \"2023-07-11T09:12:33.414964Z\", \"duration\": \"0:00:54\", \"iteration\": \"1\", \"goal\": \"accuracy_max\", \"run_name\": \"MaxAbsScaler, XGBoostClassifier\", \"run_properties\": \"copy=True\", \"primary_metric\": 0.81264368, \"best_metric\": 0.85264368}, {\"run_id\": \"AutoML_9787ad56-73f5-4a1b-9229-0969b481fb9c_worker_0\", \"run_number\": 1689066754, \"metric\": null, \"status\": \"Completed\", \"run_type\": \"azureml.scriptrun\", \"training_percent\": null, \"start_time\": \"2023-07-11T09:12:44.617783Z\", \"end_time\": \"2023-07-11T09:14:06.990898Z\", \"created_time\": \"2023-07-11T09:12:34.619813Z\", \"created_time_dt\": \"2023-07-11T09:12:34.619813Z\", \"duration\": \"0:01:32\", \"iteration\": null, \"goal\": null, \"run_name\": \"Completed\", \"run_properties\": null}, {\"run_id\": \"AutoML_9787ad56-73f5-4a1b-9229-0969b481fb9c_5\", \"run_number\": 1689066755, \"metric\": null, \"status\": \"Completed\", \"run_type\": null, \"training_percent\": \"100\", \"start_time\": \"2023-07-11T09:14:40.94174Z\", \"end_time\": \"2023-07-11T09:14:53.349668Z\", \"created_time\": \"2023-07-11T09:12:35.257549Z\", \"created_time_dt\": \"2023-07-11T09:12:35.257549Z\", \"duration\": \"0:02:18\", \"iteration\": \"5\", \"goal\": \"accuracy_max\", \"run_name\": \"MaxAbsScaler, LightGBM\", \"run_properties\": \"copy=True\", \"primary_metric\": 0.83597701, \"best_metric\": 0.85264368}, {\"run_id\": \"AutoML_9787ad56-73f5-4a1b-9229-0969b481fb9c_worker_1\", \"run_number\": 1689066756, \"metric\": null, \"status\": \"Completed\", \"run_type\": \"azureml.scriptrun\", \"training_percent\": null, \"start_time\": \"2023-07-11T09:14:12.129203Z\", \"end_time\": \"2023-07-11T09:15:29.669422Z\", \"created_time\": \"2023-07-11T09:12:36.484762Z\", \"created_time_dt\": \"2023-07-11T09:12:36.484762Z\", \"duration\": \"0:02:53\", \"iteration\": null, \"goal\": null, \"run_name\": \"Completed\", \"run_properties\": null}, {\"run_id\": \"AutoML_9787ad56-73f5-4a1b-9229-0969b481fb9c_9\", \"run_number\": 1689066757, \"metric\": null, \"status\": \"Completed\", \"run_type\": null, \"training_percent\": \"100\", \"start_time\": \"2023-07-11T09:17:04.658157Z\", \"end_time\": \"2023-07-11T09:17:17.100492Z\", \"created_time\": \"2023-07-11T09:12:37.58943Z\", \"created_time_dt\": \"2023-07-11T09:12:37.58943Z\", \"duration\": \"0:04:39\", \"iteration\": \"9\", \"goal\": \"accuracy_max\", \"run_name\": \"StandardScalerWrapper, SVM\", \"run_properties\": \"copy=True, with_mean=True, with_std=True\", \"primary_metric\": 0.75586207, \"best_metric\": 0.85264368}, {\"run_id\": \"AutoML_9787ad56-73f5-4a1b-9229-0969b481fb9c_worker_2\", \"run_number\": 1689066758, \"metric\": null, \"status\": \"Completed\", \"run_type\": \"azureml.scriptrun\", \"training_percent\": null, \"start_time\": \"2023-07-11T09:15:13.101831Z\", \"end_time\": \"2023-07-11T09:17:55.388439Z\", \"created_time\": \"2023-07-11T09:12:38.892749Z\", \"created_time_dt\": \"2023-07-11T09:12:38.892749Z\", \"duration\": \"0:05:16\", \"iteration\": null, \"goal\": null, \"run_name\": \"Completed\", \"run_properties\": null}, {\"run_id\": \"AutoML_9787ad56-73f5-4a1b-9229-0969b481fb9c_12\", \"run_number\": 1689066759, \"metric\": null, \"status\": \"Completed\", \"run_type\": null, \"training_percent\": \"100\", \"start_time\": \"2023-07-11T09:21:31.686709Z\", \"end_time\": \"2023-07-11T09:21:47.730239Z\", \"created_time\": \"2023-07-11T09:12:39.136933Z\", \"created_time_dt\": \"2023-07-11T09:12:39.136933Z\", \"duration\": \"0:09:08\", \"iteration\": \"12\", \"goal\": \"accuracy_max\", \"run_name\": \"StandardScalerWrapper, LogisticRegression\", \"run_properties\": \"copy=True, with_mean=True, with_std=False\", \"primary_metric\": 0.74195402, \"best_metric\": 0.85264368}, {\"run_id\": \"AutoML_9787ad56-73f5-4a1b-9229-0969b481fb9c_worker_3\", \"run_number\": 1689066760, \"metric\": null, \"status\": \"Completed\", \"run_type\": \"azureml.scriptrun\", \"training_percent\": null, \"start_time\": \"2023-07-11T09:15:42.353092Z\", \"end_time\": \"2023-07-11T09:22:38.248928Z\", \"created_time\": \"2023-07-11T09:12:40.855266Z\", \"created_time_dt\": \"2023-07-11T09:12:40.855266Z\", \"duration\": \"0:09:57\", \"iteration\": null, \"goal\": null, \"run_name\": \"Completed\", \"run_properties\": null}, {\"run_id\": \"AutoML_9787ad56-73f5-4a1b-9229-0969b481fb9c_16\", \"run_number\": 1689066761, \"metric\": null, \"status\": \"Completed\", \"run_type\": null, \"training_percent\": \"100\", \"start_time\": \"2023-07-11T09:17:29.092876Z\", \"end_time\": \"2023-07-11T09:17:45.615151Z\", \"created_time\": \"2023-07-11T09:12:41.047604Z\", \"created_time_dt\": \"2023-07-11T09:12:41.047604Z\", \"duration\": \"0:05:04\", \"iteration\": \"16\", \"goal\": \"accuracy_max\", \"run_name\": \"SparseNormalizer, KNN\", \"run_properties\": \"copy=True, norm='max'\", \"primary_metric\": 0.76586207, \"best_metric\": 0.85264368}, {\"run_id\": \"AutoML_9787ad56-73f5-4a1b-9229-0969b481fb9c_worker_4\", \"run_number\": 1689066762, \"metric\": null, \"status\": \"Completed\", \"run_type\": \"azureml.scriptrun\", \"training_percent\": null, \"start_time\": \"2023-07-11T09:15:28.880588Z\", \"end_time\": \"2023-07-11T09:18:41.536871Z\", \"created_time\": \"2023-07-11T09:12:42.81757Z\", \"created_time_dt\": \"2023-07-11T09:12:42.81757Z\", \"duration\": \"0:05:58\", \"iteration\": null, \"goal\": null, \"run_name\": \"Completed\", \"run_properties\": null}, {\"run_id\": \"AutoML_9787ad56-73f5-4a1b-9229-0969b481fb9c_22\", \"run_number\": 1689067115, \"metric\": null, \"status\": \"Completed\", \"run_type\": \"azureml.scriptrun\", \"training_percent\": \"100\", \"start_time\": \"2023-07-11T09:18:50.090565Z\", \"end_time\": \"2023-07-11T09:19:25.246105Z\", \"created_time\": \"2023-07-11T09:18:35.759912Z\", \"created_time_dt\": \"2023-07-11T09:18:35.759912Z\", \"duration\": \"0:00:49\", \"iteration\": \"22\", \"goal\": \"accuracy_max\", \"run_name\": \"SparseNormalizer, RandomForest\", \"run_properties\": \"copy=True, norm='l2'\", \"primary_metric\": 0.8291954, \"best_metric\": 0.85264368}, {\"run_id\": \"AutoML_9787ad56-73f5-4a1b-9229-0969b481fb9c_25\", \"run_number\": 1689067179, \"metric\": null, \"status\": \"Completed\", \"run_type\": \"azureml.scriptrun\", \"training_percent\": \"100\", \"start_time\": \"2023-07-11T09:19:51.87087Z\", \"end_time\": \"2023-07-11T09:20:27.261579Z\", \"created_time\": \"2023-07-11T09:19:39.13311Z\", \"created_time_dt\": \"2023-07-11T09:19:39.13311Z\", \"duration\": \"0:00:48\", \"iteration\": \"25\", \"goal\": \"accuracy_max\", \"run_name\": \"TruncatedSVDWrapper, RandomForest\", \"run_properties\": \"n_components=0.7026315789473684, random_state=None\", \"primary_metric\": 0.79229885, \"best_metric\": 0.85264368}, {\"run_id\": \"AutoML_9787ad56-73f5-4a1b-9229-0969b481fb9c_28\", \"run_number\": 1689067323, \"metric\": null, \"status\": \"Completed\", \"run_type\": \"azureml.scriptrun\", \"training_percent\": \"100\", \"start_time\": \"2023-07-11T09:22:12.700049Z\", \"end_time\": \"2023-07-11T09:22:43.330256Z\", \"created_time\": \"2023-07-11T09:22:03.61337Z\", \"created_time_dt\": \"2023-07-11T09:22:03.61337Z\", \"duration\": \"0:00:39\", \"iteration\": \"28\", \"goal\": \"accuracy_max\", \"run_name\": \"MinMaxScaler, LightGBM\", \"run_properties\": \"copy=True, feature_range=(0, 1\", \"primary_metric\": 0.82931034, \"best_metric\": 0.85264368}, {\"run_id\": \"AutoML_9787ad56-73f5-4a1b-9229-0969b481fb9c_29\", \"run_number\": 1689067337, \"metric\": null, \"status\": \"Completed\", \"run_type\": \"azureml.scriptrun\", \"training_percent\": \"100\", \"start_time\": \"2023-07-11T09:22:43.949416Z\", \"end_time\": \"2023-07-11T09:23:21.044088Z\", \"created_time\": \"2023-07-11T09:22:17.241415Z\", \"created_time_dt\": \"2023-07-11T09:22:17.241415Z\", \"duration\": \"0:01:03\", \"iteration\": \"29\", \"goal\": \"accuracy_max\", \"run_name\": \"MinMaxScaler, LightGBM\", \"run_properties\": \"copy=True, feature_range=(0, 1\", \"primary_metric\": 0.83609195, \"best_metric\": 0.85264368}, {\"run_id\": \"AutoML_9787ad56-73f5-4a1b-9229-0969b481fb9c_31\", \"run_number\": 1689067361, \"metric\": null, \"status\": \"Completed\", \"run_type\": \"azureml.scriptrun\", \"training_percent\": \"100\", \"start_time\": \"2023-07-11T09:22:48.342564Z\", \"end_time\": \"2023-07-11T09:23:26.263325Z\", \"created_time\": \"2023-07-11T09:22:41.107903Z\", \"created_time_dt\": \"2023-07-11T09:22:41.107903Z\", \"duration\": \"0:00:45\", \"iteration\": \"31\", \"goal\": \"accuracy_max\", \"run_name\": \"RobustScaler, RandomForest\", \"run_properties\": \"copy=True, quantile_range=[25, 75], with_centering=True,\\n             with_scaling=True\", \"primary_metric\": 0.8462069, \"best_metric\": 0.85264368}, {\"run_id\": \"AutoML_9787ad56-73f5-4a1b-9229-0969b481fb9c_32\", \"run_number\": 1689067364, \"metric\": null, \"status\": \"Completed\", \"run_type\": \"azureml.scriptrun\", \"training_percent\": \"100\", \"start_time\": \"2023-07-11T09:22:53.240814Z\", \"end_time\": \"2023-07-11T09:23:26.994639Z\", \"created_time\": \"2023-07-11T09:22:44.906492Z\", \"created_time_dt\": \"2023-07-11T09:22:44.906492Z\", \"duration\": \"0:00:42\", \"iteration\": \"32\", \"goal\": \"accuracy_max\", \"run_name\": \"RobustScaler, LightGBM\", \"run_properties\": \"copy=True, quantile_range=[25, 75], with_centering=True,\\n             with_scaling=False\", \"primary_metric\": 0.84597701, \"best_metric\": 0.85264368}, {\"run_id\": \"AutoML_9787ad56-73f5-4a1b-9229-0969b481fb9c_33\", \"run_number\": 1689067368, \"metric\": null, \"status\": \"Completed\", \"run_type\": \"azureml.scriptrun\", \"training_percent\": \"100\", \"start_time\": \"2023-07-11T09:23:22.541104Z\", \"end_time\": \"2023-07-11T09:23:52.704375Z\", \"created_time\": \"2023-07-11T09:22:48.585251Z\", \"created_time_dt\": \"2023-07-11T09:22:48.585251Z\", \"duration\": \"0:01:04\", \"iteration\": \"33\", \"goal\": \"accuracy_max\", \"run_name\": \"StandardScalerWrapper, GradientBoosting\", \"run_properties\": \"copy=True, with_mean=True, with_std=True\", \"primary_metric\": 0.84586207, \"best_metric\": 0.85264368}, {\"run_id\": \"AutoML_9787ad56-73f5-4a1b-9229-0969b481fb9c_34\", \"run_number\": 1689067401, \"metric\": null, \"status\": \"Canceled\", \"run_type\": \"azureml.scriptrun\", \"training_percent\": \"100\", \"start_time\": \"2023-07-11T09:23:28.934663Z\", \"end_time\": \"2023-07-11T09:23:59.439278Z\", \"created_time\": \"2023-07-11T09:23:21.136733Z\", \"created_time_dt\": \"2023-07-11T09:23:21.136733Z\", \"duration\": \"0:00:38\", \"iteration\": \"34\", \"goal\": \"accuracy_max\", \"run_name\": \"StandardScalerWrapper, XGBoostClassifier\", \"run_properties\": \"copy=True, with_mean=False, with_std=False\", \"primary_metric\": 0.80275862, \"best_metric\": 0.85264368}, {\"run_id\": \"AutoML_9787ad56-73f5-4a1b-9229-0969b481fb9c_35\", \"run_number\": 1689067404, \"metric\": null, \"status\": \"Canceled\", \"run_type\": \"azureml.scriptrun\", \"training_percent\": \"100\", \"start_time\": \"2023-07-11T09:23:33.149952Z\", \"end_time\": \"2023-07-11T09:23:59.409858Z\", \"created_time\": \"2023-07-11T09:23:24.296949Z\", \"created_time_dt\": \"2023-07-11T09:23:24.296949Z\", \"duration\": \"0:00:35\", \"iteration\": \"35\", \"goal\": \"accuracy_max\", \"run_name\": \"StandardScalerWrapper, XGBoostClassifier\", \"run_properties\": \"copy=True, with_mean=False, with_std=False\", \"primary_metric\": 0.83586207, \"best_metric\": 0.85264368}, {\"run_id\": \"AutoML_9787ad56-73f5-4a1b-9229-0969b481fb9c_36\", \"run_number\": 1689067407, \"metric\": null, \"status\": \"Canceled\", \"run_type\": \"azureml.scriptrun\", \"training_percent\": \"100\", \"start_time\": \"2023-07-11T09:23:36.999434Z\", \"end_time\": \"2023-07-11T09:23:59.542391Z\", \"created_time\": \"2023-07-11T09:23:27.703717Z\", \"created_time_dt\": \"2023-07-11T09:23:27.703717Z\", \"duration\": \"0:00:31\", \"iteration\": \"36\", \"goal\": null, \"run_name\": \"RobustScaler, RandomForest\", \"run_properties\": null}, {\"run_id\": \"AutoML_9787ad56-73f5-4a1b-9229-0969b481fb9c_37\", \"run_number\": 1689067409, \"metric\": null, \"status\": \"Canceled\", \"run_type\": \"azureml.scriptrun\", \"training_percent\": \"100\", \"start_time\": \"2023-07-11T09:23:53.529742Z\", \"end_time\": \"2023-07-11T09:23:57.499189Z\", \"created_time\": \"2023-07-11T09:23:29.918075Z\", \"created_time_dt\": \"2023-07-11T09:23:29.918075Z\", \"duration\": \"0:00:27\", \"iteration\": \"37\", \"goal\": null, \"run_name\": \"Canceled\", \"run_properties\": null}, {\"run_id\": \"AutoML_9787ad56-73f5-4a1b-9229-0969b481fb9c_39\", \"run_number\": 1689067440, \"metric\": null, \"status\": \"Completed\", \"run_type\": \"azureml.scriptrun\", \"training_percent\": \"100\", \"start_time\": \"2023-07-11T09:24:09.260846Z\", \"end_time\": \"2023-07-11T09:25:27.397521Z\", \"created_time\": \"2023-07-11T09:24:00.348842Z\", \"created_time_dt\": \"2023-07-11T09:24:00.348842Z\", \"duration\": \"0:01:27\", \"iteration\": \"39\", \"goal\": \"accuracy_max\", \"run_name\": \"StackEnsemble\", \"run_properties\": \"base_learners=[('18', Pipeline(memory=None, steps=[('standardscalerwrapper', StandardScalerWrapper(copy=True, with_mean=False, with_std=False\", \"primary_metric\": 0.86609195, \"best_metric\": 0.86609195}], \"children_metrics\": {\"categories\": [0], \"series\": {\"weighted_accuracy\": [{\"categories\": [\"0\", \"1\", \"5\", \"9\", \"12\", \"16\", \"22\", \"25\", \"28\", \"29\", \"31\", \"32\", \"33\", \"34\", \"35\", \"39\"], \"mode\": \"markers\", \"name\": \"weighted_accuracy\", \"stepped\": false, \"type\": \"scatter\", \"data\": [0.8721435014988043, 0.8270247482143279, 0.8603361050772698, 0.8028180847078522, 0.7260469453334005, 0.8242342713380824, 0.8426464629904796, 0.7967138123443144, 0.8670443003761525, 0.8642242980991028, 0.863143672132928, 0.862710164487017, 0.8574461343225813, 0.8455097542892547, 0.8504989243885639, 0.8819612731958696]}, {\"categories\": [\"0\", \"1\", \"5\", \"9\", \"12\", \"16\", \"22\", \"25\", \"28\", \"29\", \"31\", \"32\", \"33\", \"34\", \"35\", \"39\"], \"mode\": \"lines\", \"name\": \"weighted_accuracy_max\", \"stepped\": true, \"type\": \"scatter\", \"data\": [0.8721435014988043, 0.8721435014988043, 0.8721435014988043, 0.8721435014988043, 0.8721435014988043, 0.8721435014988043, 0.8721435014988043, 0.8721435014988043, 0.8721435014988043, 0.8721435014988043, 0.8721435014988043, 0.8721435014988043, 0.8721435014988043, 0.8721435014988043, 0.8721435014988043, 0.8819612731958696]}], \"f1_score_micro\": [{\"categories\": [\"0\", \"1\", \"5\", \"9\", \"12\", \"16\", \"22\", \"25\", \"28\", \"29\", \"31\", \"32\", \"33\", \"34\", \"35\", \"39\"], \"mode\": \"markers\", \"name\": \"f1_score_micro\", \"stepped\": false, \"type\": \"scatter\", \"data\": [0.8526436781609196, 0.8126436781609195, 0.8359770114942527, 0.7558620689655172, 0.7419540229885058, 0.7658620689655172, 0.8291954022988506, 0.7922988505747128, 0.8293103448275861, 0.8360919540229885, 0.8462068965517242, 0.8459770114942529, 0.8458620689655172, 0.8027586206896553, 0.8358620689655174, 0.8660919540229886]}, {\"categories\": [\"0\", \"1\", \"5\", \"9\", \"12\", \"16\", \"22\", \"25\", \"28\", \"29\", \"31\", \"32\", \"33\", \"34\", \"35\", \"39\"], \"mode\": \"lines\", \"name\": \"f1_score_micro_max\", \"stepped\": true, \"type\": \"scatter\", \"data\": [0.8526436781609196, 0.8526436781609196, 0.8526436781609196, 0.8526436781609196, 0.8526436781609196, 0.8526436781609196, 0.8526436781609196, 0.8526436781609196, 0.8526436781609196, 0.8526436781609196, 0.8526436781609196, 0.8526436781609196, 0.8526436781609196, 0.8526436781609196, 0.8526436781609196, 0.8660919540229886]}], \"precision_score_weighted\": [{\"categories\": [\"0\", \"1\", \"5\", \"9\", \"12\", \"16\", \"22\", \"25\", \"28\", \"29\", \"31\", \"32\", \"33\", \"34\", \"35\", \"39\"], \"mode\": \"markers\", \"name\": \"precision_score_weighted\", \"stepped\": false, \"type\": \"scatter\", \"data\": [0.8605602523953744, 0.8310647949075513, 0.8483797343752366, 0.7756590597558363, 0.8060417721352385, 0.7784834739122095, 0.8448416125827054, 0.8192119543142242, 0.8469955224167618, 0.8470529536439345, 0.8566204074266954, 0.8582467691118367, 0.8571985561033317, 0.8141265855167654, 0.8537978843252236, 0.8769727544432324]}, {\"categories\": [\"0\", \"1\", \"5\", \"9\", \"12\", \"16\", \"22\", \"25\", \"28\", \"29\", \"31\", \"32\", \"33\", \"34\", \"35\", \"39\"], \"mode\": \"lines\", \"name\": \"precision_score_weighted_max\", \"stepped\": true, \"type\": \"scatter\", \"data\": [0.8605602523953744, 0.8605602523953744, 0.8605602523953744, 0.8605602523953744, 0.8605602523953744, 0.8605602523953744, 0.8605602523953744, 0.8605602523953744, 0.8605602523953744, 0.8605602523953744, 0.8605602523953744, 0.8605602523953744, 0.8605602523953744, 0.8605602523953744, 0.8605602523953744, 0.8769727544432324]}], \"balanced_accuracy\": [{\"categories\": [\"0\", \"1\", \"5\", \"9\", \"12\", \"16\", \"22\", \"25\", \"28\", \"29\", \"31\", \"32\", \"33\", \"34\", \"35\", \"39\"], \"mode\": \"markers\", \"name\": \"balanced_accuracy\", \"stepped\": false, \"type\": \"scatter\", \"data\": [0.8215480214865225, 0.7912368524242094, 0.7996183364372723, 0.6809949920090081, 0.7650862180979459, 0.6741668441525421, 0.8075966695394612, 0.7867170119798839, 0.7704341098134004, 0.792944846883348, 0.8183774815001931, 0.8198362296551656, 0.8266472914004378, 0.7326071209809769, 0.8125013678795142, 0.8406519175904187]}, {\"categories\": [\"0\", \"1\", \"5\", \"9\", \"12\", \"16\", \"22\", \"25\", \"28\", \"29\", \"31\", \"32\", \"33\", \"34\", \"35\", \"39\"], \"mode\": \"lines\", \"name\": \"balanced_accuracy_max\", \"stepped\": true, \"type\": \"scatter\", \"data\": [0.8215480214865225, 0.8215480214865225, 0.8215480214865225, 0.8215480214865225, 0.8215480214865225, 0.8215480214865225, 0.8215480214865225, 0.8215480214865225, 0.8215480214865225, 0.8215480214865225, 0.8215480214865225, 0.8215480214865225, 0.8266472914004378, 0.8266472914004378, 0.8266472914004378, 0.8406519175904187]}], \"precision_score_micro\": [{\"categories\": [\"0\", \"1\", \"5\", \"9\", \"12\", \"16\", \"22\", \"25\", \"28\", \"29\", \"31\", \"32\", \"33\", \"34\", \"35\", \"39\"], \"mode\": \"markers\", \"name\": \"precision_score_micro\", \"stepped\": false, \"type\": \"scatter\", \"data\": [0.8526436781609196, 0.8126436781609195, 0.8359770114942527, 0.7558620689655172, 0.7419540229885058, 0.7658620689655172, 0.8291954022988506, 0.7922988505747128, 0.8293103448275861, 0.8360919540229885, 0.8462068965517242, 0.8459770114942529, 0.8458620689655172, 0.8027586206896553, 0.8358620689655174, 0.8660919540229886]}, {\"categories\": [\"0\", \"1\", \"5\", \"9\", \"12\", \"16\", \"22\", \"25\", \"28\", \"29\", \"31\", \"32\", \"33\", \"34\", \"35\", \"39\"], \"mode\": \"lines\", \"name\": \"precision_score_micro_max\", \"stepped\": true, \"type\": \"scatter\", \"data\": [0.8526436781609196, 0.8526436781609196, 0.8526436781609196, 0.8526436781609196, 0.8526436781609196, 0.8526436781609196, 0.8526436781609196, 0.8526436781609196, 0.8526436781609196, 0.8526436781609196, 0.8526436781609196, 0.8526436781609196, 0.8526436781609196, 0.8526436781609196, 0.8526436781609196, 0.8660919540229886]}], \"f1_score_weighted\": [{\"categories\": [\"0\", \"1\", \"5\", \"9\", \"12\", \"16\", \"22\", \"25\", \"28\", \"29\", \"31\", \"32\", \"33\", \"34\", \"35\", \"39\"], \"mode\": \"markers\", \"name\": \"f1_score_weighted\", \"stepped\": false, \"type\": \"scatter\", \"data\": [0.8495734967583646, 0.811006196596899, 0.8316111959536252, 0.7379144932829848, 0.7523124590883534, 0.7414592889700058, 0.8275033559401507, 0.7944765723068996, 0.8185556999780772, 0.8295059293125048, 0.8440273778834226, 0.8436700237309946, 0.8460403417071103, 0.7905147924958048, 0.8331338580731066, 0.8634482423880229]}, {\"categories\": [\"0\", \"1\", \"5\", \"9\", \"12\", \"16\", \"22\", \"25\", \"28\", \"29\", \"31\", \"32\", \"33\", \"34\", \"35\", \"39\"], \"mode\": \"lines\", \"name\": \"f1_score_weighted_max\", \"stepped\": true, \"type\": \"scatter\", \"data\": [0.8495734967583646, 0.8495734967583646, 0.8495734967583646, 0.8495734967583646, 0.8495734967583646, 0.8495734967583646, 0.8495734967583646, 0.8495734967583646, 0.8495734967583646, 0.8495734967583646, 0.8495734967583646, 0.8495734967583646, 0.8495734967583646, 0.8495734967583646, 0.8495734967583646, 0.8634482423880229]}], \"recall_score_micro\": [{\"categories\": [\"0\", \"1\", \"5\", \"9\", \"12\", \"16\", \"22\", \"25\", \"28\", \"29\", \"31\", \"32\", \"33\", \"34\", \"35\", \"39\"], \"mode\": \"markers\", \"name\": \"recall_score_micro\", \"stepped\": false, \"type\": \"scatter\", \"data\": [0.8526436781609196, 0.8126436781609195, 0.8359770114942527, 0.7558620689655172, 0.7419540229885058, 0.7658620689655172, 0.8291954022988506, 0.7922988505747128, 0.8293103448275861, 0.8360919540229885, 0.8462068965517242, 0.8459770114942529, 0.8458620689655172, 0.8027586206896553, 0.8358620689655174, 0.8660919540229886]}, {\"categories\": [\"0\", \"1\", \"5\", \"9\", \"12\", \"16\", \"22\", \"25\", \"28\", \"29\", \"31\", \"32\", \"33\", \"34\", \"35\", \"39\"], \"mode\": \"lines\", \"name\": \"recall_score_micro_max\", \"stepped\": true, \"type\": \"scatter\", \"data\": [0.8526436781609196, 0.8526436781609196, 0.8526436781609196, 0.8526436781609196, 0.8526436781609196, 0.8526436781609196, 0.8526436781609196, 0.8526436781609196, 0.8526436781609196, 0.8526436781609196, 0.8526436781609196, 0.8526436781609196, 0.8526436781609196, 0.8526436781609196, 0.8526436781609196, 0.8660919540229886]}], \"norm_macro_recall\": [{\"categories\": [\"0\", \"1\", \"5\", \"9\", \"12\", \"16\", \"22\", \"25\", \"28\", \"29\", \"31\", \"32\", \"33\", \"34\", \"35\", \"39\"], \"mode\": \"markers\", \"name\": \"norm_macro_recall\", \"stepped\": false, \"type\": \"scatter\", \"data\": [0.6430960429730452, 0.5824737048484188, 0.5992366728745446, 0.3648607974151453, 0.5301724361958916, 0.34833368830508415, 0.6151933390789225, 0.5734340239597677, 0.5408682196268009, 0.585889693766696, 0.6367549630003863, 0.6396724593103311, 0.6532945828008757, 0.4652142419619536, 0.6250027357590285, 0.6813038351808374]}, {\"categories\": [\"0\", \"1\", \"5\", \"9\", \"12\", \"16\", \"22\", \"25\", \"28\", \"29\", \"31\", \"32\", \"33\", \"34\", \"35\", \"39\"], \"mode\": \"lines\", \"name\": \"norm_macro_recall_max\", \"stepped\": true, \"type\": \"scatter\", \"data\": [0.6430960429730452, 0.6430960429730452, 0.6430960429730452, 0.6430960429730452, 0.6430960429730452, 0.6430960429730452, 0.6430960429730452, 0.6430960429730452, 0.6430960429730452, 0.6430960429730452, 0.6430960429730452, 0.6430960429730452, 0.6532945828008757, 0.6532945828008757, 0.6532945828008757, 0.6813038351808374]}], \"matthews_correlation\": [{\"categories\": [\"0\", \"1\", \"5\", \"9\", \"12\", \"16\", \"22\", \"25\", \"28\", \"29\", \"31\", \"32\", \"33\", \"34\", \"35\", \"39\"], \"mode\": \"markers\", \"name\": \"matthews_correlation\", \"stepped\": false, \"type\": \"scatter\", \"data\": [0.6609732322714985, 0.5798728950037678, 0.620625394649138, 0.42133923339855633, 0.4931990224960162, 0.4335563191961641, 0.6181864525764108, 0.5569034980326355, 0.6046815147445325, 0.6160394822294634, 0.6477761165824883, 0.6493213180256185, 0.647003680712711, 0.5295774482036208, 0.6318904675808911, 0.6945666870566136]}, {\"categories\": [\"0\", \"1\", \"5\", \"9\", \"12\", \"16\", \"22\", \"25\", \"28\", \"29\", \"31\", \"32\", \"33\", \"34\", \"35\", \"39\"], \"mode\": \"lines\", \"name\": \"matthews_correlation_max\", \"stepped\": true, \"type\": \"scatter\", \"data\": [0.6609732322714985, 0.6609732322714985, 0.6609732322714985, 0.6609732322714985, 0.6609732322714985, 0.6609732322714985, 0.6609732322714985, 0.6609732322714985, 0.6609732322714985, 0.6609732322714985, 0.6609732322714985, 0.6609732322714985, 0.6609732322714985, 0.6609732322714985, 0.6609732322714985, 0.6945666870566136]}], \"AUC_macro\": [{\"categories\": [\"0\", \"1\", \"5\", \"9\", \"12\", \"16\", \"22\", \"25\", \"28\", \"29\", \"31\", \"32\", \"33\", \"34\", \"35\", \"39\"], \"mode\": \"markers\", \"name\": \"AUC_macro\", \"stepped\": false, \"type\": \"scatter\", \"data\": [0.8952333600250076, 0.8991812818442682, 0.8979970069552449, 0.8135870948781705, 0.8618047728841207, 0.7464011599733854, 0.894680515187838, 0.8623938004871643, 0.8985871822727658, 0.8796352800644562, 0.9106519784034084, 0.9012306559107474, 0.912553610778153, 0.8958417605002845, 0.8917573018239494, 0.9096310272277093]}, {\"categories\": [\"0\", \"1\", \"5\", \"9\", \"12\", \"16\", \"22\", \"25\", \"28\", \"29\", \"31\", \"32\", \"33\", \"34\", \"35\", \"39\"], \"mode\": \"lines\", \"name\": \"AUC_macro_max\", \"stepped\": true, \"type\": \"scatter\", \"data\": [0.8952333600250076, 0.8991812818442682, 0.8991812818442682, 0.8991812818442682, 0.8991812818442682, 0.8991812818442682, 0.8991812818442682, 0.8991812818442682, 0.8991812818442682, 0.8991812818442682, 0.9106519784034084, 0.9106519784034084, 0.912553610778153, 0.912553610778153, 0.912553610778153, 0.912553610778153]}], \"accuracy\": [{\"categories\": [\"0\", \"1\", \"5\", \"9\", \"12\", \"16\", \"22\", \"25\", \"28\", \"29\", \"31\", \"32\", \"33\", \"34\", \"35\", \"39\"], \"mode\": \"markers\", \"name\": \"accuracy\", \"stepped\": false, \"type\": \"scatter\", \"data\": [0.8526436781609196, 0.8126436781609195, 0.8359770114942527, 0.7558620689655172, 0.7419540229885058, 0.7658620689655172, 0.8291954022988506, 0.7922988505747128, 0.8293103448275861, 0.8360919540229885, 0.8462068965517242, 0.8459770114942529, 0.8458620689655172, 0.8027586206896553, 0.8358620689655174, 0.8660919540229886]}, {\"categories\": [\"0\", \"1\", \"5\", \"9\", \"12\", \"16\", \"22\", \"25\", \"28\", \"29\", \"31\", \"32\", \"33\", \"34\", \"35\", \"39\"], \"mode\": \"lines\", \"name\": \"accuracy_max\", \"stepped\": true, \"type\": \"scatter\", \"data\": [0.8526436781609196, 0.8526436781609196, 0.8526436781609196, 0.8526436781609196, 0.8526436781609196, 0.8526436781609196, 0.8526436781609196, 0.8526436781609196, 0.8526436781609196, 0.8526436781609196, 0.8526436781609196, 0.8526436781609196, 0.8526436781609196, 0.8526436781609196, 0.8526436781609196, 0.8660919540229886]}], \"AUC_micro\": [{\"categories\": [\"0\", \"1\", \"5\", \"9\", \"12\", \"16\", \"22\", \"25\", \"28\", \"29\", \"31\", \"32\", \"33\", \"34\", \"35\", \"39\"], \"mode\": \"markers\", \"name\": \"AUC_micro\", \"stepped\": false, \"type\": \"scatter\", \"data\": [0.9107760602457391, 0.9055090500726649, 0.9098189985467038, 0.8278239529660457, 0.8228993261989694, 0.8058736953362399, 0.9026259743691373, 0.8702773153653058, 0.9045402298850576, 0.8941503501123002, 0.921002246003435, 0.9153180076628354, 0.9214505218655041, 0.9002010833663627, 0.9038657682652925, 0.9189904875148633]}, {\"categories\": [\"0\", \"1\", \"5\", \"9\", \"12\", \"16\", \"22\", \"25\", \"28\", \"29\", \"31\", \"32\", \"33\", \"34\", \"35\", \"39\"], \"mode\": \"lines\", \"name\": \"AUC_micro_max\", \"stepped\": true, \"type\": \"scatter\", \"data\": [0.9107760602457391, 0.9107760602457391, 0.9107760602457391, 0.9107760602457391, 0.9107760602457391, 0.9107760602457391, 0.9107760602457391, 0.9107760602457391, 0.9107760602457391, 0.9107760602457391, 0.921002246003435, 0.921002246003435, 0.9214505218655041, 0.9214505218655041, 0.9214505218655041, 0.9214505218655041]}], \"AUC_weighted\": [{\"categories\": [\"0\", \"1\", \"5\", \"9\", \"12\", \"16\", \"22\", \"25\", \"28\", \"29\", \"31\", \"32\", \"33\", \"34\", \"35\", \"39\"], \"mode\": \"markers\", \"name\": \"AUC_weighted\", \"stepped\": false, \"type\": \"scatter\", \"data\": [0.8952333600250076, 0.8991812818442682, 0.8979970069552449, 0.8135870948781705, 0.8618047728841207, 0.7464011599733854, 0.8946805151878378, 0.8623938004871643, 0.8985871822727658, 0.8796352800644562, 0.9106519784034084, 0.9012306559107474, 0.912553610778153, 0.8958417605002845, 0.8917573018239494, 0.9096310272277093]}, {\"categories\": [\"0\", \"1\", \"5\", \"9\", \"12\", \"16\", \"22\", \"25\", \"28\", \"29\", \"31\", \"32\", \"33\", \"34\", \"35\", \"39\"], \"mode\": \"lines\", \"name\": \"AUC_weighted_max\", \"stepped\": true, \"type\": \"scatter\", \"data\": [0.8952333600250076, 0.8991812818442682, 0.8991812818442682, 0.8991812818442682, 0.8991812818442682, 0.8991812818442682, 0.8991812818442682, 0.8991812818442682, 0.8991812818442682, 0.8991812818442682, 0.9106519784034084, 0.9106519784034084, 0.912553610778153, 0.912553610778153, 0.912553610778153, 0.912553610778153]}], \"average_precision_score_micro\": [{\"categories\": [\"0\", \"1\", \"5\", \"9\", \"12\", \"16\", \"22\", \"25\", \"28\", \"29\", \"31\", \"32\", \"33\", \"34\", \"35\", \"39\"], \"mode\": \"markers\", \"name\": \"average_precision_score_micro\", \"stepped\": false, \"type\": \"scatter\", \"data\": [0.9118998393040524, 0.9087324507605287, 0.9120005206314861, 0.8306548836207274, 0.8321613485841948, 0.792947413420068, 0.9074837914553264, 0.8784292504937621, 0.9095881076374168, 0.8911255290102285, 0.9238126964363165, 0.9163357377878866, 0.9251964809541174, 0.9068179014804872, 0.9063864988815364, 0.9203133407531222]}, {\"categories\": [\"0\", \"1\", \"5\", \"9\", \"12\", \"16\", \"22\", \"25\", \"28\", \"29\", \"31\", \"32\", \"33\", \"34\", \"35\", \"39\"], \"mode\": \"lines\", \"name\": \"average_precision_score_micro_max\", \"stepped\": true, \"type\": \"scatter\", \"data\": [0.9118998393040524, 0.9118998393040524, 0.9120005206314861, 0.9120005206314861, 0.9120005206314861, 0.9120005206314861, 0.9120005206314861, 0.9120005206314861, 0.9120005206314861, 0.9120005206314861, 0.9238126964363165, 0.9238126964363165, 0.9251964809541174, 0.9251964809541174, 0.9251964809541174, 0.9251964809541174]}], \"average_precision_score_weighted\": [{\"categories\": [\"0\", \"1\", \"5\", \"9\", \"12\", \"16\", \"22\", \"25\", \"28\", \"29\", \"31\", \"32\", \"33\", \"34\", \"35\", \"39\"], \"mode\": \"markers\", \"name\": \"average_precision_score_weighted\", \"stepped\": false, \"type\": \"scatter\", \"data\": [0.9151443911131578, 0.9176526709400085, 0.9109898175572713, 0.8355641834070525, 0.891965830839238, 0.7942963774294312, 0.9106546473141407, 0.882007431562059, 0.9181655270016668, 0.8928302922291627, 0.9261142411137282, 0.9214309043862929, 0.9295538475833489, 0.9131812337290468, 0.9111333605685333, 0.9224141900578697]}, {\"categories\": [\"0\", \"1\", \"5\", \"9\", \"12\", \"16\", \"22\", \"25\", \"28\", \"29\", \"31\", \"32\", \"33\", \"34\", \"35\", \"39\"], \"mode\": \"lines\", \"name\": \"average_precision_score_weighted_max\", \"stepped\": true, \"type\": \"scatter\", \"data\": [0.9151443911131578, 0.9176526709400085, 0.9176526709400085, 0.9176526709400085, 0.9176526709400085, 0.9176526709400085, 0.9176526709400085, 0.9176526709400085, 0.9181655270016668, 0.9181655270016668, 0.9261142411137282, 0.9261142411137282, 0.9295538475833489, 0.9295538475833489, 0.9295538475833489, 0.9295538475833489]}], \"recall_score_weighted\": [{\"categories\": [\"0\", \"1\", \"5\", \"9\", \"12\", \"16\", \"22\", \"25\", \"28\", \"29\", \"31\", \"32\", \"33\", \"34\", \"35\", \"39\"], \"mode\": \"markers\", \"name\": \"recall_score_weighted\", \"stepped\": false, \"type\": \"scatter\", \"data\": [0.8526436781609196, 0.8126436781609195, 0.8359770114942527, 0.7558620689655172, 0.7419540229885058, 0.7658620689655172, 0.8291954022988506, 0.7922988505747128, 0.8293103448275861, 0.8360919540229885, 0.8462068965517242, 0.8459770114942529, 0.8458620689655172, 0.8027586206896553, 0.8358620689655174, 0.8660919540229886]}, {\"categories\": [\"0\", \"1\", \"5\", \"9\", \"12\", \"16\", \"22\", \"25\", \"28\", \"29\", \"31\", \"32\", \"33\", \"34\", \"35\", \"39\"], \"mode\": \"lines\", \"name\": \"recall_score_weighted_max\", \"stepped\": true, \"type\": \"scatter\", \"data\": [0.8526436781609196, 0.8526436781609196, 0.8526436781609196, 0.8526436781609196, 0.8526436781609196, 0.8526436781609196, 0.8526436781609196, 0.8526436781609196, 0.8526436781609196, 0.8526436781609196, 0.8526436781609196, 0.8526436781609196, 0.8526436781609196, 0.8526436781609196, 0.8526436781609196, 0.8660919540229886]}], \"log_loss\": [{\"categories\": [\"0\", \"1\", \"5\", \"9\", \"12\", \"16\", \"22\", \"25\", \"28\", \"29\", \"31\", \"32\", \"33\", \"34\", \"35\", \"39\"], \"mode\": \"markers\", \"name\": \"log_loss\", \"stepped\": false, \"type\": \"scatter\", \"data\": [0.4598848075595511, 0.5035078522204657, 0.38545363277203926, 0.5145901463265143, 0.5008760796772892, 1.2827620632333787, 0.40791542834684574, 0.4384996991745977, 0.41105498089367787, 0.4218097803746551, 0.3624674637702392, 0.3644692267524797, 0.35720750500748916, 0.5629199930186024, 0.44352623362783933, 0.3609671560037206]}, {\"categories\": [\"0\", \"1\", \"5\", \"9\", \"12\", \"16\", \"22\", \"25\", \"28\", \"29\", \"31\", \"32\", \"33\", \"34\", \"35\", \"39\"], \"mode\": \"lines\", \"name\": \"log_loss_min\", \"stepped\": true, \"type\": \"scatter\", \"data\": [0.4598848075595511, 0.4598848075595511, 0.38545363277203926, 0.38545363277203926, 0.38545363277203926, 0.38545363277203926, 0.38545363277203926, 0.38545363277203926, 0.38545363277203926, 0.38545363277203926, 0.3624674637702392, 0.3624674637702392, 0.35720750500748916, 0.35720750500748916, 0.35720750500748916, 0.35720750500748916]}], \"average_precision_score_macro\": [{\"categories\": [\"0\", \"1\", \"5\", \"9\", \"12\", \"16\", \"22\", \"25\", \"28\", \"29\", \"31\", \"32\", \"33\", \"34\", \"35\", \"39\"], \"mode\": \"markers\", \"name\": \"average_precision_score_macro\", \"stepped\": false, \"type\": \"scatter\", \"data\": [0.8914391239798902, 0.8913167742808195, 0.8834093861003798, 0.7923467832649368, 0.8659854050705768, 0.7597412180878824, 0.8869986453579116, 0.842770773684143, 0.8935052281991966, 0.8645766463444504, 0.9023191700521215, 0.8991909746790337, 0.9093349520361695, 0.8817119569459246, 0.8841993673169941, 0.8970928368675832]}, {\"categories\": [\"0\", \"1\", \"5\", \"9\", \"12\", \"16\", \"22\", \"25\", \"28\", \"29\", \"31\", \"32\", \"33\", \"34\", \"35\", \"39\"], \"mode\": \"lines\", \"name\": \"average_precision_score_macro_max\", \"stepped\": true, \"type\": \"scatter\", \"data\": [0.8914391239798902, 0.8914391239798902, 0.8914391239798902, 0.8914391239798902, 0.8914391239798902, 0.8914391239798902, 0.8914391239798902, 0.8914391239798902, 0.8935052281991966, 0.8935052281991966, 0.9023191700521215, 0.9023191700521215, 0.9093349520361695, 0.9093349520361695, 0.9093349520361695, 0.9093349520361695]}], \"recall_score_macro\": [{\"categories\": [\"0\", \"1\", \"5\", \"9\", \"12\", \"16\", \"22\", \"25\", \"28\", \"29\", \"31\", \"32\", \"33\", \"34\", \"35\", \"39\"], \"mode\": \"markers\", \"name\": \"recall_score_macro\", \"stepped\": false, \"type\": \"scatter\", \"data\": [0.8215480214865225, 0.7912368524242094, 0.7996183364372723, 0.6809949920090081, 0.7650862180979459, 0.6741668441525421, 0.8075966695394612, 0.7867170119798839, 0.7704341098134004, 0.792944846883348, 0.8183774815001931, 0.8198362296551656, 0.8266472914004378, 0.7326071209809769, 0.8125013678795142, 0.8406519175904187]}, {\"categories\": [\"0\", \"1\", \"5\", \"9\", \"12\", \"16\", \"22\", \"25\", \"28\", \"29\", \"31\", \"32\", \"33\", \"34\", \"35\", \"39\"], \"mode\": \"lines\", \"name\": \"recall_score_macro_max\", \"stepped\": true, \"type\": \"scatter\", \"data\": [0.8215480214865225, 0.8215480214865225, 0.8215480214865225, 0.8215480214865225, 0.8215480214865225, 0.8215480214865225, 0.8215480214865225, 0.8215480214865225, 0.8215480214865225, 0.8215480214865225, 0.8215480214865225, 0.8215480214865225, 0.8266472914004378, 0.8266472914004378, 0.8266472914004378, 0.8406519175904187]}], \"precision_score_macro\": [{\"categories\": [\"0\", \"1\", \"5\", \"9\", \"12\", \"16\", \"22\", \"25\", \"28\", \"29\", \"31\", \"32\", \"33\", \"34\", \"35\", \"39\"], \"mode\": \"markers\", \"name\": \"precision_score_macro\", \"stepped\": false, \"type\": \"scatter\", \"data\": [0.8410434880400557, 0.7906465934269138, 0.8231111581655061, 0.7562805383022774, 0.7308246833575781, 0.773829678500159, 0.8120537609591318, 0.7721660928604158, 0.8410694000041825, 0.8259519747986566, 0.8305944970062618, 0.8307784051697096, 0.821221903309819, 0.8056671842650104, 0.821491250508514, 0.8554804188423114]}, {\"categories\": [\"0\", \"1\", \"5\", \"9\", \"12\", \"16\", \"22\", \"25\", \"28\", \"29\", \"31\", \"32\", \"33\", \"34\", \"35\", \"39\"], \"mode\": \"lines\", \"name\": \"precision_score_macro_max\", \"stepped\": true, \"type\": \"scatter\", \"data\": [0.8410434880400557, 0.8410434880400557, 0.8410434880400557, 0.8410434880400557, 0.8410434880400557, 0.8410434880400557, 0.8410434880400557, 0.8410434880400557, 0.8410694000041825, 0.8410694000041825, 0.8410694000041825, 0.8410694000041825, 0.8410694000041825, 0.8410694000041825, 0.8410694000041825, 0.8554804188423114]}], \"f1_score_macro\": [{\"categories\": [\"0\", \"1\", \"5\", \"9\", \"12\", \"16\", \"22\", \"25\", \"28\", \"29\", \"31\", \"32\", \"33\", \"34\", \"35\", \"39\"], \"mode\": \"markers\", \"name\": \"f1_score_macro\", \"stepped\": false, \"type\": \"scatter\", \"data\": [0.8229109664388268, 0.7787612554397809, 0.7995377116617718, 0.6801591133673311, 0.721172292163957, 0.6829016131755693, 0.7992540603944442, 0.7655726265962514, 0.7818753077601518, 0.795632501724719, 0.8163225619326528, 0.8161297093643608, 0.8175913155813099, 0.7444879212858083, 0.8040069816286088, 0.8389410934609917]}, {\"categories\": [\"0\", \"1\", \"5\", \"9\", \"12\", \"16\", \"22\", \"25\", \"28\", \"29\", \"31\", \"32\", \"33\", \"34\", \"35\", \"39\"], \"mode\": \"lines\", \"name\": \"f1_score_macro_max\", \"stepped\": true, \"type\": \"scatter\", \"data\": [0.8229109664388268, 0.8229109664388268, 0.8229109664388268, 0.8229109664388268, 0.8229109664388268, 0.8229109664388268, 0.8229109664388268, 0.8229109664388268, 0.8229109664388268, 0.8229109664388268, 0.8229109664388268, 0.8229109664388268, 0.8229109664388268, 0.8229109664388268, 0.8229109664388268, 0.8389410934609917]}]}, \"metricName\": null, \"primaryMetricName\": \"accuracy\", \"showLegend\": false}, \"run_metrics\": [{\"name\": \"experiment_status\", \"run_id\": \"AutoML_9787ad56-73f5-4a1b-9229-0969b481fb9c\", \"categories\": [0, 1, 2, 3, 4, 5, 6, 7, 8, 9, 10, 11, 12, 13], \"series\": [{\"data\": [\"DatasetEvaluation\", \"FeaturesGeneration\", \"DatasetFeaturization\", \"DatasetFeaturizationCompleted\", \"DatasetCrossValidationSplit\", \"ModelSelection\", \"BestRunExplainModel\", \"ModelExplanationDataSetSetup\", \"PickSurrogateModel\", \"EngineeredFeatureExplanations\", \"EngineeredFeatureExplanations\", \"RawFeaturesExplanations\", \"RawFeaturesExplanations\", \"BestRunExplainModel\"]}]}, {\"name\": \"experiment_status_description\", \"run_id\": \"AutoML_9787ad56-73f5-4a1b-9229-0969b481fb9c\", \"categories\": [0, 1, 2, 3, 4, 5, 6, 7, 8, 9, 10, 11, 12, 13], \"series\": [{\"data\": [\"Gathering dataset statistics.\", \"Generating features for the dataset.\", \"Beginning to fit featurizers and featurize the dataset.\", \"Completed fit featurizers and featurizing the dataset.\", \"Generating individually featurized CV splits.\", \"Beginning model selection.\", \"Best run model explanations started\", \"Model explanations data setup completed\", \"Choosing LightGBM as the surrogate model for explanations\", \"Computation of engineered features started\", \"Computation of engineered features completed\", \"Computation of raw features started\", \"Computation of raw features completed\", \"Best run model explanations completed\"]}]}, {\"name\": \"precision_score_weighted\", \"run_id\": \"AutoML_9787ad56-73f5-4a1b-9229-0969b481fb9c\", \"categories\": [0], \"series\": [{\"data\": [0.8829831889806534]}]}, {\"name\": \"matthews_correlation\", \"run_id\": \"AutoML_9787ad56-73f5-4a1b-9229-0969b481fb9c\", \"categories\": [0], \"series\": [{\"data\": [0.7094385641396247]}]}, {\"name\": \"precision_score_micro\", \"run_id\": \"AutoML_9787ad56-73f5-4a1b-9229-0969b481fb9c\", \"categories\": [0], \"series\": [{\"data\": [0.8728735632183909]}]}, {\"name\": \"average_precision_score_macro\", \"run_id\": \"AutoML_9787ad56-73f5-4a1b-9229-0969b481fb9c\", \"categories\": [0], \"series\": [{\"data\": [0.8997320855507376]}]}, {\"name\": \"f1_score_micro\", \"run_id\": \"AutoML_9787ad56-73f5-4a1b-9229-0969b481fb9c\", \"categories\": [0], \"series\": [{\"data\": [0.8728735632183909]}]}, {\"name\": \"accuracy\", \"run_id\": \"AutoML_9787ad56-73f5-4a1b-9229-0969b481fb9c\", \"categories\": [0], \"series\": [{\"data\": [0.8728735632183909]}]}, {\"name\": \"recall_score_weighted\", \"run_id\": \"AutoML_9787ad56-73f5-4a1b-9229-0969b481fb9c\", \"categories\": [0], \"series\": [{\"data\": [0.8728735632183909]}]}, {\"name\": \"AUC_micro\", \"run_id\": \"AutoML_9787ad56-73f5-4a1b-9229-0969b481fb9c\", \"categories\": [0], \"series\": [{\"data\": [0.9216337693222354]}]}, {\"name\": \"weighted_accuracy\", \"run_id\": \"AutoML_9787ad56-73f5-4a1b-9229-0969b481fb9c\", \"categories\": [0], \"series\": [{\"data\": [0.8891861980659488]}]}, {\"name\": \"precision_score_macro\", \"run_id\": \"AutoML_9787ad56-73f5-4a1b-9229-0969b481fb9c\", \"categories\": [0], \"series\": [{\"data\": [0.8647366457072339]}]}, {\"name\": \"f1_score_weighted\", \"run_id\": \"AutoML_9787ad56-73f5-4a1b-9229-0969b481fb9c\", \"categories\": [0], \"series\": [{\"data\": [0.8704232806342675]}]}, {\"name\": \"AUC_weighted\", \"run_id\": \"AutoML_9787ad56-73f5-4a1b-9229-0969b481fb9c\", \"categories\": [0], \"series\": [{\"data\": [0.9110885371091321]}]}, {\"name\": \"recall_score_macro\", \"run_id\": \"AutoML_9787ad56-73f5-4a1b-9229-0969b481fb9c\", \"categories\": [0], \"series\": [{\"data\": [0.8464960734345744]}]}, {\"name\": \"log_loss\", \"run_id\": \"AutoML_9787ad56-73f5-4a1b-9229-0969b481fb9c\", \"categories\": [0], \"series\": [{\"data\": [0.3519246230782122]}]}, {\"name\": \"balanced_accuracy\", \"run_id\": \"AutoML_9787ad56-73f5-4a1b-9229-0969b481fb9c\", \"categories\": [0], \"series\": [{\"data\": [0.8464960734345744]}]}, {\"name\": \"f1_score_macro\", \"run_id\": \"AutoML_9787ad56-73f5-4a1b-9229-0969b481fb9c\", \"categories\": [0], \"series\": [{\"data\": [0.846744208701178]}]}, {\"name\": \"norm_macro_recall\", \"run_id\": \"AutoML_9787ad56-73f5-4a1b-9229-0969b481fb9c\", \"categories\": [0], \"series\": [{\"data\": [0.6929921468691491]}]}, {\"name\": \"average_precision_score_weighted\", \"run_id\": \"AutoML_9787ad56-73f5-4a1b-9229-0969b481fb9c\", \"categories\": [0], \"series\": [{\"data\": [0.9235745364025023]}]}, {\"name\": \"AUC_macro\", \"run_id\": \"AutoML_9787ad56-73f5-4a1b-9229-0969b481fb9c\", \"categories\": [0], \"series\": [{\"data\": [0.9110885371091321]}]}, {\"name\": \"average_precision_score_micro\", \"run_id\": \"AutoML_9787ad56-73f5-4a1b-9229-0969b481fb9c\", \"categories\": [0], \"series\": [{\"data\": [0.9226631275857157]}]}, {\"name\": \"recall_score_micro\", \"run_id\": \"AutoML_9787ad56-73f5-4a1b-9229-0969b481fb9c\", \"categories\": [0], \"series\": [{\"data\": [0.8728735632183909]}]}], \"run_logs\": \"\\nRun is completed.\", \"graph\": {}, \"widget_settings\": {\"childWidgetDisplay\": \"popup\", \"send_telemetry\": false, \"log_level\": \"INFO\", \"sdk_version\": \"1.49.0\"}, \"loading\": false}"
          },
          "metadata": {}
        }
      ],
      "execution_count": 10,
      "metadata": {
        "gather": {
          "logged": 1689066175760
        },
        "jupyter": {
          "outputs_hidden": false,
          "source_hidden": false
        },
        "nteract": {
          "transient": {
            "deleting": false
          }
        }
      }
    },
    {
      "cell_type": "markdown",
      "source": [
        "## Best Model\n",
        "\n",
        "\n"
      ],
      "metadata": {}
    },
    {
      "cell_type": "code",
      "source": [
        "best_model, fitted_model = remote_run.get_output()"
      ],
      "outputs": [
        {
          "output_type": "stream",
          "name": "stderr",
          "text": "WARNING:root:The version of the SDK does not match the version the model was trained on.\nWARNING:root:The consistency in the result may not be guaranteed.\nWARNING:root:Package:azureml-automl-core, training version:1.51.0.post1, current version:1.49.0\nPackage:azureml-automl-runtime, training version:1.51.0.post2, current version:1.49.0\nPackage:azureml-core, training version:1.51.0, current version:1.49.0\nPackage:azureml-dataprep, training version:4.10.8, current version:4.9.1\nPackage:azureml-dataprep-rslex, training version:2.17.12, current version:2.16.1\nPackage:azureml-dataset-runtime, training version:1.51.0, current version:1.49.0\nPackage:azureml-defaults, training version:1.51.0, current version:1.49.0\nPackage:azureml-interpret, training version:1.51.0, current version:1.49.0\nPackage:azureml-mlflow, training version:1.51.0, current version:1.49.0\nPackage:azureml-pipeline-core, training version:1.51.0, current version:1.49.0\nPackage:azureml-responsibleai, training version:1.51.0, current version:1.49.0\nPackage:azureml-telemetry, training version:1.51.0, current version:1.49.0\nPackage:azureml-train-automl-client, training version:1.51.0.post1, current version:1.49.0\nPackage:azureml-train-automl-runtime, training version:1.51.0.post2, current version:1.49.0\nPackage:azureml-train-core, training version:1.51.0, current version:1.49.0\nPackage:azureml-train-restclients-hyperdrive, training version:1.51.0, current version:1.49.0\nPackage:azureml-training-tabular, training version:1.51.0.post1, current version:1.49.0\nWARNING:root:Please ensure the version of your local conda dependencies match the version on which your model was trained in order to properly retrieve your model.\n"
        }
      ],
      "execution_count": 14,
      "metadata": {
        "gather": {
          "logged": 1689067657336
        },
        "jupyter": {
          "outputs_hidden": false,
          "source_hidden": false
        },
        "nteract": {
          "transient": {
            "deleting": false
          }
        }
      }
    },
    {
      "cell_type": "code",
      "source": [
        "best_model.get_metrics()"
      ],
      "outputs": [
        {
          "output_type": "execute_result",
          "execution_count": 15,
          "data": {
            "text/plain": "{'average_precision_score_micro': 0.9226631275857157,\n 'recall_score_micro': 0.8728735632183909,\n 'average_precision_score_weighted': 0.9235745364025023,\n 'weighted_accuracy': 0.8891861980659488,\n 'f1_score_weighted': 0.8704232806342675,\n 'norm_macro_recall': 0.6929921468691491,\n 'AUC_macro': 0.9110885371091321,\n 'f1_score_micro': 0.8728735632183909,\n 'recall_score_weighted': 0.8728735632183909,\n 'log_loss': 0.3519246230782122,\n 'precision_score_macro': 0.8647366457072339,\n 'accuracy': 0.8728735632183909,\n 'precision_score_weighted': 0.8829831889806534,\n 'balanced_accuracy': 0.8464960734345744,\n 'AUC_micro': 0.9216337693222354,\n 'average_precision_score_macro': 0.8997320855507376,\n 'f1_score_macro': 0.846744208701178,\n 'recall_score_macro': 0.8464960734345744,\n 'precision_score_micro': 0.8728735632183909,\n 'matthews_correlation': 0.7094385641396247,\n 'AUC_weighted': 0.9110885371091321,\n 'accuracy_table': 'aml://artifactId/ExperimentRun/dcid.AutoML_9787ad56-73f5-4a1b-9229-0969b481fb9c_38/accuracy_table',\n 'confusion_matrix': 'aml://artifactId/ExperimentRun/dcid.AutoML_9787ad56-73f5-4a1b-9229-0969b481fb9c_38/confusion_matrix'}"
          },
          "metadata": {}
        }
      ],
      "execution_count": 15,
      "metadata": {
        "jupyter": {
          "source_hidden": false,
          "outputs_hidden": false
        },
        "nteract": {
          "transient": {
            "deleting": false
          }
        },
        "gather": {
          "logged": 1689067660255
        }
      }
    },
    {
      "cell_type": "code",
      "source": [
        "fitted_model.steps"
      ],
      "outputs": [
        {
          "output_type": "execute_result",
          "execution_count": 16,
          "data": {
            "text/plain": "[('datatransformer',\n  DataTransformer(enable_dnn=False, enable_feature_sweeping=True, feature_sweeping_config={}, feature_sweeping_timeout=86400, featurization_config=None, force_text_dnn=False, is_cross_validation=True, is_onnx_compatible=False, task='classification')),\n ('prefittedsoftvotingclassifier',\n  PreFittedSoftVotingClassifier(classification_labels=numpy.array([0, 1]), estimators=[('18', Pipeline(memory=None, steps=[('standardscalerwrapper', StandardScalerWrapper(copy=True, with_mean=False, with_std=False)), ('xgboostclassifier', XGBoostClassifier(booster='gbtree', colsample_bytree=0.5, eta=0.5, gamma=0, max_depth=6, max_leaves=3, n_estimators=10, n_jobs=1, objective='reg:logistic', problem_info=ProblemInfo(gpu_training_param_dict={'processing_unit_type': 'cpu'}), random_state=0, reg_alpha=0.7291666666666667, reg_lambda=2.3958333333333335, subsample=0.8, tree_method='auto'))], verbose=False)), ('21', Pipeline(memory=None, steps=[('standardscalerwrapper', StandardScalerWrapper(copy=True, with_mean=False, with_std=False)), ('xgboostclassifier', XGBoostClassifier(booster='gbtree', colsample_bytree=1, eta=0.3, gamma=0, max_depth=10, max_leaves=511, n_estimators=10, n_jobs=1, objective='reg:logistic', problem_info=ProblemInfo(gpu_training_param_dict={'processing_unit_type': 'cpu'}), random_state=0, reg_alpha=2.1875, reg_lambda=0.4166666666666667, subsample=0.5, tree_method='auto'))], verbose=False)), ('0', Pipeline(memory=None, steps=[('maxabsscaler', MaxAbsScaler(copy=True)), ('lightgbmclassifier', LightGBMClassifier(min_data_in_leaf=20, n_jobs=1, problem_info=ProblemInfo(gpu_training_param_dict={'processing_unit_type': 'cpu'}), random_state=None))], verbose=False)), ('31', Pipeline(memory=None, steps=[('robustscaler', RobustScaler(copy=True, quantile_range=[25, 75], with_centering=True, with_scaling=True)), ('randomforestclassifier', RandomForestClassifier(bootstrap=True, ccp_alpha=0.0, class_weight=None, criterion='gini', max_depth=None, max_features=0.5, max_leaf_nodes=None, max_samples=None, min_impurity_decrease=0.0, min_impurity_split=None, min_samples_leaf=0.01, min_samples_split=0.19736842105263158, min_weight_fraction_leaf=0.0, n_estimators=100, n_jobs=1, oob_score=False, random_state=None, verbose=0, warm_start=False))], verbose=False)), ('32', Pipeline(memory=None, steps=[('robustscaler', RobustScaler(copy=True, quantile_range=[25, 75], with_centering=True, with_scaling=False)), ('lightgbmclassifier', LightGBMClassifier(boosting_type='gbdt', colsample_bytree=0.99, learning_rate=0.04211105263157895, max_bin=110, max_depth=9, min_child_weight=0, min_data_in_leaf=0.07586448275862069, min_split_gain=0.10526315789473684, n_estimators=100, n_jobs=1, num_leaves=53, problem_info=ProblemInfo(gpu_training_param_dict={'processing_unit_type': 'cpu'}), random_state=None, reg_alpha=0.3157894736842105, reg_lambda=0.8421052631578947, subsample=0.6931578947368422))], verbose=False)), ('29', Pipeline(memory=None, steps=[('minmaxscaler', MinMaxScaler(copy=True, feature_range=(0, 1))), ('lightgbmclassifier', LightGBMClassifier(boosting_type='gbdt', colsample_bytree=0.99, learning_rate=0.03158578947368421, max_bin=40, max_depth=2, min_child_weight=3, min_data_in_leaf=0.08276034482758622, min_split_gain=0.3157894736842105, n_estimators=50, n_jobs=1, num_leaves=146, problem_info=ProblemInfo(gpu_training_param_dict={'processing_unit_type': 'cpu'}), random_state=None, reg_alpha=0.631578947368421, reg_lambda=0.5789473684210527, subsample=0.6436842105263159))], verbose=False)), ('27', Pipeline(memory=None, steps=[('sparsenormalizer', Normalizer(copy=True, norm='l1')), ('xgboostclassifier', XGBoostClassifier(booster='gbtree', colsample_bytree=1, eta=0.4, gamma=0.1, max_depth=10, max_leaves=127, n_estimators=50, n_jobs=1, objective='reg:logistic', problem_info=ProblemInfo(gpu_training_param_dict={'processing_unit_type': 'cpu'}), random_state=0, reg_alpha=0.8333333333333334, reg_lambda=1.1458333333333335, subsample=0.8, tree_method='auto'))], verbose=False))], flatten_transform=None, weights=[0.25, 0.125, 0.125, 0.125, 0.125, 0.125, 0.125]))]"
          },
          "metadata": {}
        }
      ],
      "execution_count": 16,
      "metadata": {
        "jupyter": {
          "source_hidden": false,
          "outputs_hidden": false
        },
        "nteract": {
          "transient": {
            "deleting": false
          }
        },
        "gather": {
          "logged": 1689067668995
        }
      }
    },
    {
      "cell_type": "markdown",
      "source": [
        "## Model Deployment"
      ],
      "metadata": {}
    },
    {
      "cell_type": "code",
      "source": [
        "# register the best model\r\n",
        "model = best_model.register_model(model_name=\"best_automl_model\", model_path=\"outputs/model.pkl\")"
      ],
      "outputs": [],
      "execution_count": 17,
      "metadata": {
        "gather": {
          "logged": 1689067712560
        },
        "jupyter": {
          "outputs_hidden": false,
          "source_hidden": false
        },
        "nteract": {
          "transient": {
            "deleting": false
          }
        }
      }
    },
    {
      "cell_type": "code",
      "source": [
        "inference_env = Environment.get(ws,\"AzureML-AutoML\" )"
      ],
      "outputs": [],
      "execution_count": 18,
      "metadata": {
        "jupyter": {
          "source_hidden": false,
          "outputs_hidden": false
        },
        "nteract": {
          "transient": {
            "deleting": false
          }
        },
        "gather": {
          "logged": 1689067714519
        }
      }
    },
    {
      "cell_type": "code",
      "source": [
        "inference_config = InferenceConfig(entry_script=\"./scoring.py\",\r\n",
        "                                   environment=inference_env)\r\n",
        "\r\n",
        "service_name = \"automl-deployed-model\"\r\n",
        "deploy_config = AciWebservice.deploy_configuration(cpu_cores=1, memory_gb=1)\r\n",
        "\r\n",
        "deployed_service = Model.deploy(workspace=ws, name=service_name, models=[model],\r\n",
        "                                inference_config=inference_config,\r\n",
        "                                deployment_config=deploy_config)\r\n",
        "\r\n",
        "deployed_service.wait_for_deployment(show_output=True)\r\n",
        "\r\n",
        "deployed_service.scoring_uri"
      ],
      "outputs": [
        {
          "output_type": "stream",
          "name": "stderr",
          "text": "WARNING:azureml.core.model:Warning, custom base image or base dockerfile detected without a specified `inferencing_stack_version`. Please set environment.inferencing_stack_version='latest'\n"
        },
        {
          "output_type": "stream",
          "name": "stdout",
          "text": "Tips: You can try get_logs(): https://aka.ms/debugimage#dockerlog or local deployment: https://aka.ms/debugimage#debug-locally to debug if deployment takes longer than 10 minutes.\nRunning\n2023-07-11 09:39:38+00:00 Creating Container Registry if not exists..\n2023-07-11 09:49:45+00:00 Registering the environment.\n2023-07-11 09:49:46+00:00 Submitting deployment to compute..\n2023-07-11 09:49:50+00:00 Checking the status of deployment automl-deployed-model..\n2023-07-11 09:51:46+00:00 Checking the status of inference endpoint automl-deployed-model.\nSucceeded\nACI service creation operation finished, operation \"Succeeded\"\n"
        },
        {
          "output_type": "execute_result",
          "execution_count": 25,
          "data": {
            "text/plain": "'http://49ecd7ae-8fe8-49ac-ac6b-bb4e67bfaabf.southcentralus.azurecontainer.io/score'"
          },
          "metadata": {}
        }
      ],
      "execution_count": 25,
      "metadata": {
        "gather": {
          "logged": 1689069118717
        },
        "jupyter": {
          "outputs_hidden": false,
          "source_hidden": false
        },
        "nteract": {
          "transient": {
            "deleting": false
          }
        }
      }
    },
    {
      "cell_type": "code",
      "source": [
        "# Enable app insights \r\n",
        "deployed_service.update(enable_app_insights=True)\r\n",
        "deployed_service.get_logs()"
      ],
      "outputs": [
        {
          "output_type": "execute_result",
          "execution_count": 31,
          "data": {
            "text/plain": "'2023-07-11T09:54:45,212523160+00:00 - rsyslog/run \\n2023-07-11T09:54:45,231441797+00:00 - gunicorn/run \\n2023-07-11T09:54:45,237685239+00:00 | gunicorn/run | \\n2023-07-11T09:54:45,239617745+00:00 | gunicorn/run | ###############################################\\n2023-07-11T09:54:45,241488248+00:00 | gunicorn/run | AzureML Container Runtime Information\\n2023-07-11T09:54:45,247605383+00:00 | gunicorn/run | ###############################################\\n2023-07-11T09:54:45,254688071+00:00 | gunicorn/run | \\n2023-07-11T09:54:45,257827043+00:00 - nginx/run \\n2023-07-11T09:54:45,264074485+00:00 | gunicorn/run | \\n2023-07-11T09:54:45,274889578+00:00 | gunicorn/run | AzureML image information: openmpi4.1.0-ubuntu20.04, Materializaton Build:20230628.v2\\n2023-07-11T09:54:45,280749599+00:00 | gunicorn/run | \\n2023-07-11T09:54:45,289292468+00:00 | gunicorn/run | \\n2023-07-11T09:54:45,296731275+00:00 | gunicorn/run | PATH environment variable: /azureml-envs/azureml-automl/bin:/opt/miniconda/bin:/usr/local/sbin:/usr/local/bin:/usr/sbin:/usr/bin:/sbin:/bin\\n2023-07-11T09:54:45,301509737+00:00 | gunicorn/run | PYTHONPATH environment variable: \\n2023-07-11T09:54:45,307009539+00:00 | gunicorn/run | \\n2023-07-11T09:54:46,535885119+00:00 | gunicorn/run | CONDAPATH environment variable: /opt/miniconda\\n\\n# conda environments:\\n#\\n                         /azureml-envs/azureml-automl\\nbase                     /opt/miniconda\\n\\n2023-07-11T09:54:48,015329011+00:00 | gunicorn/run | \\n2023-07-11T09:54:48,018945111+00:00 | gunicorn/run | Pip Dependencies (before dynamic installation)\\n\\nadal==1.2.7\\napplicationinsights==0.11.10\\narch==5.3.1\\nargcomplete==2.1.2\\nargon2-cffi==21.3.0\\nargon2-cffi-bindings==21.2.0\\nasttokens==2.2.1\\nattrs==23.1.0\\nazure-common==1.1.28\\nazure-core==1.27.1\\nazure-graphrbac==0.61.1\\nazure-identity==1.13.0\\nazure-mgmt-authorization==3.0.0\\nazure-mgmt-containerregistry==10.1.0\\nazure-mgmt-core==1.4.0\\nazure-mgmt-keyvault==10.2.2\\nazure-mgmt-resource==22.0.0\\nazure-mgmt-storage==21.0.0\\nazure-storage-blob==12.13.0\\nazure-storage-queue==12.6.0\\nazureml-automl-core==1.52.0.post1\\nazureml-automl-runtime==1.52.0.post1\\nazureml-core==1.52.0\\nazureml-dataprep==4.11.4\\nazureml-dataprep-native==38.0.0\\nazureml-dataprep-rslex==2.18.4\\nazureml-dataset-runtime==1.52.0\\nazureml-defaults==1.52.0\\nazureml-inference-server-http==0.8.4\\nazureml-interpret==1.52.0\\nazureml-mlflow==1.52.0\\nazureml-pipeline-core==1.52.0\\nazureml-responsibleai==1.52.0\\nazureml-telemetry==1.52.0\\nazureml-train-automl-client==1.52.0\\nazureml-train-automl-runtime==1.52.0\\nazureml-train-core==1.52.0\\nazureml-train-restclients-hyperdrive==1.52.0\\nazureml-training-tabular==1.52.0\\nbackcall==0.2.0\\nbackports.tempfile==1.0\\nbackports.weakref==1.0.post1\\nbcrypt==4.0.1\\nbeautifulsoup4==4.12.2\\nbleach==6.0.0\\nbokeh==2.4.3\\nboto==2.49.0\\nboto3==1.20.19\\nbotocore==1.23.19\\nBrotli @ file:///home/conda/feedstock_root/build_artifacts/brotli-split_1687884021435/work\\ncachetools==5.3.1\\ncertifi==2023.5.7\\ncffi @ file:///home/conda/feedstock_root/build_artifacts/cffi_1671179356964/work\\ncharset-normalizer @ file:///home/conda/feedstock_root/build_artifacts/charset-normalizer_1678108872112/work\\nclick==8.1.4\\ncloudpickle @ file:///home/conda/feedstock_root/build_artifacts/cloudpickle_1598400192773/work\\ncmdstanpy==0.9.5\\ncontextlib2==21.6.0\\ncontourpy==1.1.0\\nconvertdate @ file:///home/conda/feedstock_root/build_artifacts/convertdate_1642883757836/work\\ncryptography==41.0.0\\ncycler==0.11.0\\nCython==0.29.17\\ndask==2023.2.0\\ndatabricks-cli==0.17.7\\ndataclasses==0.6\\ndebugpy==1.6.7\\ndecorator==5.1.1\\ndefusedxml==0.7.1\\ndice-ml==0.9\\ndill==0.3.6\\ndistributed==2023.2.0\\ndistro==1.8.0\\ndocker==6.1.3\\ndotnetcore2==3.1.23\\neconml==0.14.1\\nentrypoints==0.4\\nephem==4.1.4\\nerroranalysis==0.4.4\\nexecuting==1.2.0\\nfairlearn==0.8.0\\nfastjsonschema==2.17.1\\nfbprophet==0.7.1\\nfire==0.5.0\\nFlask==2.2.5\\nFlask-Cors==3.0.10\\nflatbuffers==23.5.26\\nfonttools==4.40.0\\nfsspec==2023.6.0\\nfusepy==3.0.1\\ngensim==3.8.3\\ngitdb==4.0.10\\nGitPython==3.1.31\\ngoogle-api-core==2.11.1\\ngoogle-auth==2.21.0\\ngoogleapis-common-protos==1.59.1\\ngunicorn==20.1.0\\nh5py==3.9.0\\nholidays @ file:///home/conda/feedstock_root/build_artifacts/holidays_1595448845196/work\\nhumanfriendly==10.0\\nidna @ file:///home/conda/feedstock_root/build_artifacts/idna_1663625384323/work\\nimportlib-metadata==6.8.0\\nimportlib-resources==5.13.0\\ninference-schema==1.5.1\\ninterpret-community==0.29.0\\ninterpret-core==0.3.2\\nipykernel==6.8.0\\nipython==8.12.2\\nipython-genutils==0.2.0\\nisodate==0.6.1\\nitsdangerous==2.1.2\\njedi==0.18.2\\njeepney==0.8.0\\nJinja2==3.1.2\\njmespath==0.10.0\\njoblib @ file:///home/conda/feedstock_root/build_artifacts/joblib_1663332044897/work\\njsonpickle==3.0.1\\njsonschema==4.18.0\\njsonschema-specifications==2023.6.1\\njupyter_client==7.4.9\\njupyter_core==5.3.1\\njupyterlab-pygments==0.2.2\\nkeras2onnx==1.6.0\\nkiwisolver==1.4.4\\nknack==0.10.1\\nkorean-lunar-calendar @ file:///home/conda/feedstock_root/build_artifacts/korean_lunar_calendar_1663341251025/work\\nlightgbm==3.2.1\\nllvmlite==0.38.1\\nlocket==1.0.0\\nLunarCalendar==0.0.9\\nMarkupSafe==2.1.2\\nmatplotlib==3.7.2\\nmatplotlib-inline==0.1.6\\nmistune==3.0.1\\nml-wrappers==0.4.11\\nmlflow-skinny==2.4.1\\nmltable==1.4.1\\nmsal==1.22.0\\nmsal-extensions==1.0.0\\nmsgpack==1.0.5\\nmsrest==0.7.1\\nmsrestazure==0.6.4\\nnbclient==0.8.0\\nnbconvert==7.6.0\\nnbformat==5.9.0\\nndg-httpsclient==0.5.1\\nnest-asyncio==1.5.6\\nnetworkx==2.5\\nnotebook==6.4.9\\nnumba==0.55.2\\nnumpy==1.22.3\\noauthlib==3.2.2\\nonnx==1.13.1\\nonnxconverter-common==1.6.0\\nonnxmltools==1.4.1\\nonnxruntime==1.11.1\\nopencensus==0.11.2\\nopencensus-context==0.1.3\\nopencensus-ext-azure==1.1.9\\npackaging==23.0\\npandas==1.1.5\\npandocfilters==1.5.0\\nparamiko==3.2.0\\nparso==0.8.3\\npartd==1.4.0\\npathspec==0.11.1\\npatsy==0.5.3\\npexpect==4.8.0\\npickleshare==0.7.5\\nPillow==10.0.0\\npkginfo==1.9.6\\npkgutil_resolve_name==1.3.10\\nplatformdirs @ file:///home/conda/feedstock_root/build_artifacts/platformdirs_1688739404342/work\\npmdarima==1.8.0\\npooch @ file:///home/conda/feedstock_root/build_artifacts/pooch_1679580333621/work\\nportalocker==2.7.0\\nprometheus-client==0.17.0\\nprompt-toolkit==3.0.39\\nproperty-cached==1.6.4\\nprotobuf==3.20.3\\npsutil @ file:///home/conda/feedstock_root/build_artifacts/psutil_1681775007745/work\\nptyprocess==0.7.0\\npure-eval==0.2.2\\npy-cpuinfo==5.0.0\\npyarrow==9.0.0\\npyasn1==0.5.0\\npyasn1-modules==0.3.0\\npycparser @ file:///home/conda/feedstock_root/build_artifacts/pycparser_1636257122734/work\\npydantic==1.10.11\\nPygments==2.15.1\\nPyJWT==2.7.0\\nPyMeeus @ file:///home/conda/feedstock_root/build_artifacts/pymeeus_1670868433998/work\\nPyNaCl==1.5.0\\npyOpenSSL @ file:///home/conda/feedstock_root/build_artifacts/pyopenssl_1685514481738/work\\npyparsing==3.0.9\\nPySocks @ file:///home/conda/feedstock_root/build_artifacts/pysocks_1661604839144/work\\npystan==2.19.1.1\\npython-dateutil @ file:///home/conda/feedstock_root/build_artifacts/python-dateutil_1626286286081/work\\npytz @ file:///home/conda/feedstock_root/build_artifacts/pytz_1680088766131/work\\nPyYAML==6.0\\npyzmq==25.1.0\\nraiutils==0.4.0\\nreferencing==0.29.1\\nrequests @ file:///home/conda/feedstock_root/build_artifacts/requests_1684774241324/work\\nrequests-oauthlib==1.3.1\\nresponsibleai==0.28.0\\nrpds-py==0.8.8\\nrsa==4.9\\ns3transfer==0.5.2\\nscikit-learn==0.22.1\\nscipy==1.5.3\\nSecretStorage==3.3.3\\nsemver==2.13.0\\nSend2Trash==1.8.2\\nsetuptools-git==1.2\\nshap==0.41.0\\nsix @ file:///home/conda/feedstock_root/build_artifacts/six_1620240208055/work\\nskl2onnx==1.4.9\\nsklearn-pandas==1.7.0\\nslicer==0.0.7\\nsmart-open==1.9.0\\nsmmap==5.0.0\\nsortedcontainers==2.4.0\\nsoupsieve==2.4.1\\nsparse==0.14.0\\nsqlparse==0.4.4\\nstack-data==0.6.2\\nstatsmodels==0.11.1\\ntabulate==0.9.0\\ntblib==2.0.0\\ntermcolor==2.3.0\\nterminado==0.17.1\\ntinycss2==1.2.1\\ntoolz==0.12.0\\ntornado==6.3.2\\ntqdm==4.65.0\\ntraitlets==5.9.0\\ntyping_extensions @ file:///home/conda/feedstock_root/build_artifacts/typing_extensions_1688315532570/work\\nurllib3==1.26.16\\nwcwidth==0.2.6\\nwebencodings==0.5.1\\nwebsocket-client==1.6.1\\nWerkzeug==2.3.6\\nwrapt==1.12.1\\nxgboost==1.3.3\\nzict==3.0.0\\nzipp==3.15.0\\n\\n2023-07-11T09:54:50,738852111+00:00 | gunicorn/run | \\n2023-07-11T09:54:50,742513611+00:00 | gunicorn/run | ###############################################\\n2023-07-11T09:54:50,743986711+00:00 | gunicorn/run | Checking if the Python package azureml-inference-server-http is installed\\n2023-07-11T09:54:50,745687511+00:00 | gunicorn/run | ###############################################\\n2023-07-11T09:54:50,752444411+00:00 | gunicorn/run | \\n2023-07-11T09:54:54,814521712+00:00 | gunicorn/run | \\n2023-07-11T09:54:54,821113079+00:00 | gunicorn/run | ###############################################\\n2023-07-11T09:54:54,822810096+00:00 | gunicorn/run | AzureML Inference Server\\n2023-07-11T09:54:54,824502913+00:00 | gunicorn/run | ###############################################\\n2023-07-11T09:54:54,831619085+00:00 | gunicorn/run | \\n2023-07-11T09:54:58,978086269+00:00 | gunicorn/run | Starting AzureML Inference Server HTTP.\\n2023-07-11 09:54:59,550 I [81] azmlinfsrv - Loaded logging config from /azureml-envs/azureml-automl/lib/python3.8/site-packages/azureml_inference_server_http/logging.json\\n2023-07-11 09:54:59,975 I [81] gunicorn.error - Starting gunicorn 20.1.0\\n2023-07-11 09:54:59,976 I [81] gunicorn.error - Listening at: http://0.0.0.0:31311 (81)\\n2023-07-11 09:54:59,977 I [81] gunicorn.error - Using worker: sync\\n2023-07-11 09:54:59,984 I [148] gunicorn.error - Booting worker with pid: 148\\nValid Application Insights instrumentation key provided.\\n\\nAzure ML Inferencing HTTP server v0.8.4\\n\\n\\nServer Settings\\n---------------\\nEntry Script Name: /var/azureml-app/main.py\\nModel Directory: /var/azureml-app/azureml-models/best_automl_model/1\\nConfig File: None\\n/azureml-envs/azureml-automl/lib/python3.8/site-packages/azureml_inference_server_http/server/config.py:51: FutureWarning: aliases are no longer used by BaseSettings to define which environment variables to read. Instead use the \"env\" field setting. See https://pydantic-docs.helpmanual.io/usage/settings/#environment-variable-names\\n  class AMLInferenceServerConfig(pydantic.BaseSettings):\\nWorker Count: 1\\nWorker Timeout (seconds): 300\\nServer Port: 31311\\nHealth Port: 31311\\nApplication Insights Enabled: true\\nApplication Insights Key: AppInsights key provided\\nInferencing HTTP server version: azmlinfsrv/0.8.4\\nCORS for the specified origins: None\\nCreate dedicated endpoint for health: None\\n\\n\\nServer Routes\\n---------------\\nLiveness Probe: GET   127.0.0.1:31311/\\nScore:          POST  127.0.0.1:31311/score\\n\\n2023-07-11 09:55:01,173 I [148] azmlinfsrv - AML_FLASK_ONE_COMPATIBILITY is set. Patched Flask to ensure compatibility with Flask 1.\\nInitializing logger\\n2023-07-11 09:55:01,181 I [148] azmlinfsrv - Starting up app insights client\\nWARNING:opencensus.ext.azure.common:DeprecationWarning: Explicitly using instrumentation key isdeprecated. Please use a connection string instead.\\nWARNING:opencensus.ext.azure.common:DeprecationWarning: Explicitly using instrumentation key isdeprecated. Please use a connection string instead.\\nWARNING:opencensus.ext.azure.common:DeprecationWarning: Explicitly using instrumentation key isdeprecated. Please use a connection string instead.\\n2023-07-11 09:55:07,709 I [148] azmlinfsrv.user_script - Found driver script at /var/azureml-app/main.py and the score script at /var/azureml-app/scoring.py\\n2023-07-11 09:55:07,710 I [148] azmlinfsrv.user_script - run() is decorated with @input_schema. Server will invoke it with the following arguments: data.\\n2023-07-11 09:55:07,710 I [148] azmlinfsrv.user_script - Invoking user\\'s init function\\nERROR:fbprophet.plot:Importing plotly failed. Interactive plots will not work.\\n2023-07-11 09:55:21,938 I [148] azmlinfsrv.user_script - Users\\'s init has completed successfully\\n2023-07-11 09:55:21,944 I [148] azmlinfsrv.swagger - Swaggers are prepared for the following versions: [2, 3, 3.1].\\n2023-07-11 09:55:21,944 I [148] azmlinfsrv - Scoring timeout is set to 60000\\n2023-07-11 09:55:46,049 W [148] azmlinfsrv - x-ms-request-id header has been deprecated and will be removed from future versions of the server. Please use x-ms-client-request-id.\\n2023-07-11 09:55:46,052 I [148] gunicorn.access - 127.0.0.1 - - [11/Jul/2023:09:55:46 +0000] \"GET / HTTP/1.0\" 200 7 \"-\" \"Go-http-client/1.1\"\\n2023-07-11 09:55:46,062 W [148] azmlinfsrv - x-ms-request-id header has been deprecated and will be removed from future versions of the server. Please use x-ms-client-request-id.\\n2023-07-11 09:55:46,063 I [148] azmlinfsrv - GET /swagger.json 200 1.333ms 3499\\n2023-07-11 09:55:46,065 I [148] gunicorn.access - 127.0.0.1 - - [11/Jul/2023:09:55:46 +0000] \"GET /swagger.json HTTP/1.0\" 200 3499 \"-\" \"Go-http-client/1.1\"\\n2023-07-11 09:57:27,497 W [148] azmlinfsrv - x-ms-request-id header has been deprecated and will be removed from future versions of the server. Please use x-ms-client-request-id.\\n2023-07-11 09:57:27,498 I [148] gunicorn.access - 127.0.0.1 - - [11/Jul/2023:09:57:27 +0000] \"GET / HTTP/1.0\" 200 7 \"-\" \"Go-http-client/1.1\"\\n2023-07-11 09:57:27,509 W [148] azmlinfsrv - x-ms-request-id header has been deprecated and will be removed from future versions of the server. Please use x-ms-client-request-id.\\n2023-07-11 09:57:27,510 I [148] azmlinfsrv - GET /swagger.json 200 1.263ms 3499\\n2023-07-11 09:57:27,517 I [148] gunicorn.access - 127.0.0.1 - - [11/Jul/2023:09:57:27 +0000] \"GET /swagger.json HTTP/1.0\" 200 3499 \"-\" \"Go-http-client/1.1\"\\n2023-07-11 09:58:26,535 W [148] azmlinfsrv - x-ms-request-id header has been deprecated and will be removed from future versions of the server. Please use x-ms-client-request-id.\\n2023-07-11 09:58:26,536 I [148] gunicorn.access - 127.0.0.1 - - [11/Jul/2023:09:58:26 +0000] \"GET / HTTP/1.0\" 200 7 \"-\" \"Go-http-client/1.1\"\\n2023-07-11 09:58:26,541 W [148] azmlinfsrv - x-ms-request-id header has been deprecated and will be removed from future versions of the server. Please use x-ms-client-request-id.\\n2023-07-11 09:58:26,541 I [148] azmlinfsrv - GET /swagger.json 200 0.648ms 3499\\n2023-07-11 09:58:26,542 I [148] gunicorn.access - 127.0.0.1 - - [11/Jul/2023:09:58:26 +0000] \"GET /swagger.json HTTP/1.0\" 200 3499 \"-\" \"Go-http-client/1.1\"\\n2023-07-11 09:58:32,708 W [148] azmlinfsrv - x-ms-request-id header has been deprecated and will be removed from future versions of the server. Please use x-ms-client-request-id.\\n2023-07-11 09:58:32,709 I [148] gunicorn.access - 127.0.0.1 - - [11/Jul/2023:09:58:32 +0000] \"GET / HTTP/1.0\" 200 7 \"-\" \"Go-http-client/1.1\"\\n2023-07-11 09:58:32,717 W [148] azmlinfsrv - x-ms-request-id header has been deprecated and will be removed from future versions of the server. Please use x-ms-client-request-id.\\n2023-07-11 09:58:32,717 I [148] azmlinfsrv - GET /swagger.json 200 0.952ms 3499\\n2023-07-11 09:58:32,719 I [148] gunicorn.access - 127.0.0.1 - - [11/Jul/2023:09:58:32 +0000] \"GET /swagger.json HTTP/1.0\" 200 3499 \"-\" \"Go-http-client/1.1\"\\n'"
          },
          "metadata": {}
        }
      ],
      "execution_count": 31,
      "metadata": {
        "jupyter": {
          "source_hidden": false,
          "outputs_hidden": false
        },
        "nteract": {
          "transient": {
            "deleting": false
          }
        },
        "gather": {
          "logged": 1689069513459
        }
      }
    },
    {
      "cell_type": "markdown",
      "source": [
        "## Send request to model endpoint"
      ],
      "metadata": {
        "nteract": {
          "transient": {
            "deleting": false
          }
        }
      }
    },
    {
      "cell_type": "code",
      "source": [
        "import urllib.request\r\n",
        "import json\r\n",
        "import os\r\n",
        "import ssl\r\n",
        "\r\n",
        "def allowSelfSignedHttps(allowed):\r\n",
        "    # bypass the server certificate verification on client side\r\n",
        "    if allowed and not os.environ.get('PYTHONHTTPSVERIFY', '') and getattr(ssl, '_create_unverified_context', None):\r\n",
        "        ssl._create_default_https_context = ssl._create_unverified_context\r\n",
        "\r\n",
        "allowSelfSignedHttps(True) # this line is needed if you use self-signed certificate in your scoring service.\r\n",
        "\r\n",
        "# Request data goes here\r\n",
        "# The example below assumes JSON formatting which may be updated\r\n",
        "# depending on the format your endpoint expects.\r\n",
        "# More information can be found here:\r\n",
        "# https://docs.microsoft.com/azure/machine-learning/how-to-deploy-advanced-entry-script\r\n",
        "data =  {\r\n",
        "  \"data\": [\r\n",
        "    {\r\n",
        "      \"age\": 0.0,\r\n",
        "      \"anaemia\": 0,\r\n",
        "      \"creatinine_phosphokinase\": 0,\r\n",
        "      \"diabetes\": 0,\r\n",
        "      \"ejection_fraction\": 0,\r\n",
        "      \"high_blood_pressure\": 0,\r\n",
        "      \"platelets\": 0.0,\r\n",
        "      \"serum_creatinine\": 0.0,\r\n",
        "      \"serum_sodium\": 0,\r\n",
        "      \"sex\": 0,\r\n",
        "      \"smoking\": 0,\r\n",
        "      \"time\": 0\r\n",
        "    }\r\n",
        "  ]\r\n",
        "}\r\n",
        "\r\n",
        "body = str.encode(json.dumps(data))\r\n",
        "\r\n",
        "url = deployed_service.scoring_uri\r\n",
        "\r\n",
        "\r\n",
        "headers = {'Content-Type':'application/json'}\r\n",
        "\r\n",
        "req = urllib.request.Request(url, body, headers)\r\n",
        "\r\n",
        "try:\r\n",
        "    response = urllib.request.urlopen(req)\r\n",
        "\r\n",
        "    result = response.read()\r\n",
        "    print(result)\r\n",
        "except urllib.error.HTTPError as error:\r\n",
        "    print(\"The request failed with status code: \" + str(error.code))\r\n",
        "\r\n",
        "    # Print the headers - they include the requert ID and the timestamp, which are useful for debugging the failure\r\n",
        "    print(error.info())\r\n",
        "    print(error.read().decode(\"utf8\", 'ignore'))"
      ],
      "outputs": [
        {
          "output_type": "stream",
          "name": "stdout",
          "text": "b'\"{\\\\\"result\\\\\": [1]}\"'\n"
        }
      ],
      "execution_count": 33,
      "metadata": {
        "jupyter": {
          "source_hidden": false,
          "outputs_hidden": false
        },
        "nteract": {
          "transient": {
            "deleting": false
          }
        },
        "gather": {
          "logged": 1689069688005
        }
      }
    },
    {
      "cell_type": "code",
      "source": [
        "deployed_service.delete()\r\n",
        "compute_target.delete()"
      ],
      "outputs": [],
      "execution_count": null,
      "metadata": {
        "jupyter": {
          "source_hidden": false,
          "outputs_hidden": false
        },
        "nteract": {
          "transient": {
            "deleting": false
          }
        },
        "gather": {
          "logged": 1689066177428
        }
      }
    }
  ],
  "metadata": {
    "kernel_info": {
      "name": "python38-azureml"
    },
    "kernelspec": {
      "name": "python38-azureml",
      "language": "python",
      "display_name": "Python 3.8 - AzureML"
    },
    "language_info": {
      "name": "python",
      "version": "3.8.5",
      "mimetype": "text/x-python",
      "codemirror_mode": {
        "name": "ipython",
        "version": 3
      },
      "pygments_lexer": "ipython3",
      "nbconvert_exporter": "python",
      "file_extension": ".py"
    },
    "nteract": {
      "version": "nteract-front-end@1.0.0"
    },
    "microsoft": {
      "host": {
        "AzureML": {
          "notebookHasBeenCompleted": true
        }
      },
      "ms_spell_check": {
        "ms_spell_check_language": "en"
      }
    }
  },
  "nbformat": 4,
  "nbformat_minor": 2
}